{
 "cells": [
  {
   "cell_type": "markdown",
   "metadata": {
    "toc": true
   },
   "source": [
    "<h1>Table of Contents<span class=\"tocSkip\"></span></h1>\n",
    "<div class=\"toc\"><ul class=\"toc-item\"><li><span><a href=\"#图像旋转指定角度\" data-toc-modified-id=\"图像旋转指定角度-1\"><span class=\"toc-item-num\">1&nbsp;&nbsp;</span>图像旋转指定角度</a></span></li><li><span><a href=\"#检查图像是否竖屏\" data-toc-modified-id=\"检查图像是否竖屏-2\"><span class=\"toc-item-num\">2&nbsp;&nbsp;</span>检查图像是否竖屏</a></span></li><li><span><a href=\"#文本倾斜校正\" data-toc-modified-id=\"文本倾斜校正-3\"><span class=\"toc-item-num\">3&nbsp;&nbsp;</span>文本倾斜校正</a></span></li><li><span><a href=\"#KNN-进行数据分类\" data-toc-modified-id=\"KNN-进行数据分类-4\"><span class=\"toc-item-num\">4&nbsp;&nbsp;</span>KNN 进行数据分类</a></span></li><li><span><a href=\"#实战-(使用KNN进行手写数字识别)\" data-toc-modified-id=\"实战-(使用KNN进行手写数字识别)-5\"><span class=\"toc-item-num\">5&nbsp;&nbsp;</span>实战 (使用KNN进行手写数字识别)</a></span></li><li><span><a href=\"#K值聚类\" data-toc-modified-id=\"K值聚类-6\"><span class=\"toc-item-num\">6&nbsp;&nbsp;</span>K值聚类</a></span><ul class=\"toc-item\"><li><span><a href=\"#仅有一个特征的数据\" data-toc-modified-id=\"仅有一个特征的数据-6.1\"><span class=\"toc-item-num\">6.1&nbsp;&nbsp;</span>仅有一个特征的数据</a></span></li><li><span><a href=\"#含有多个特征的数据\" data-toc-modified-id=\"含有多个特征的数据-6.2\"><span class=\"toc-item-num\">6.2&nbsp;&nbsp;</span>含有多个特征的数据</a></span></li><li><span><a href=\"#实战-(使用K-Means进行颜色量化)\" data-toc-modified-id=\"实战-(使用K-Means进行颜色量化)-6.3\"><span class=\"toc-item-num\">6.3&nbsp;&nbsp;</span>实战 (使用K-Means进行颜色量化)</a></span></li></ul></li></ul></div>"
   ]
  },
  {
   "cell_type": "markdown",
   "metadata": {},
   "source": [
    "## 图像旋转指定角度\n",
    "> 通过`仿射变换`进行图像旋转"
   ]
  },
  {
   "cell_type": "code",
   "execution_count": null,
   "metadata": {
    "code_folding": [
     0
    ]
   },
   "outputs": [],
   "source": [
    "def rotate_bound(image, angle):\n",
    "    # grab the dimensions of the image and then determine the\n",
    "    # center\n",
    "    (h, w) = image.shape[:2]\n",
    "    (cX, cY) = (w // 2, h // 2)\n",
    "\n",
    "    # grab the rotation matrix (applying the negative of the\n",
    "    # angle to rotate clockwise), then grab the sine and cosine\n",
    "    # (i.e., the rotation components of the matrix)\n",
    "    M = cv2.getRotationMatrix2D((cX, cY), -angle, 1.0)\n",
    "\n",
    "    cos = np.abs(M[0, 0])\n",
    "    sin = np.abs(M[0, 1])\n",
    "\n",
    "    # 计算输出图像的大小, 格式为图像的(宽, 高)\n",
    "    # 宽对应图像的列数; 高对应图像的行数\n",
    "    nW = int((h * sin) + (w * cos))\n",
    "    nH = int((h * cos) + (w * sin))\n",
    "\n",
    "    # adjust the rotation matrix to take into account translation\n",
    "    M[0, 2] += (nW / 2) - cX\n",
    "    M[1, 2] += (nH / 2) - cY\n",
    "\n",
    "    # perform the actual rotation and return the image\n",
    "    return cv2.warpAffine(image, M, (nW, nH))"
   ]
  },
  {
   "cell_type": "markdown",
   "metadata": {},
   "source": [
    "## 检查图像是否竖屏\n",
    "> 使用霍夫变换检测直线, 通过比较水平直线和垂直直线的数量来推断横竖屏"
   ]
  },
  {
   "cell_type": "code",
   "execution_count": null,
   "metadata": {
    "code_folding": [
     0
    ]
   },
   "outputs": [],
   "source": [
    "def check_vertical_screen(img):\n",
    "\n",
    "    \"\"\"\n",
    "    :param img:  灰度图片对象\n",
    "    :return:  True(竖屏), False(横屏)\n",
    "    \"\"\"\n",
    "\n",
    "    drawing = np.zeros(img.shape[:], dtype=np.uint8)\n",
    "\n",
    "    # 使用 Laplacian算子 计算图像梯度\n",
    "    img = cv2.Laplacian(img, -1, ksize=7)\n",
    "\n",
    "    # 使用霍夫变换检测直线 (用霍夫线变换之前, 首先要对图像进行边缘检测的处理，也即霍夫线变换的直接输入只能是边缘二值图像)\n",
    "    lines = cv2.HoughLinesP(img, 0.8, np.pi/180, 90,  minLineLength=300, maxLineGap=10)\n",
    "\n",
    "    rows = 0\n",
    "    cols = 0\n",
    "\n",
    "    for line in lines:\n",
    "        x1, y1, x2, y2 = line[0]\n",
    "\n",
    "        # 水平直线\n",
    "        if y1 == y2:\n",
    "            cv2.line(drawing, (x1, y1), (x2, y2), (0, 255, 0), 1, lineType=cv2.LINE_AA)\n",
    "            rows += 1\n",
    "\n",
    "        # 垂直直线\n",
    "        if x1 == x2:\n",
    "            cv2.line(drawing, (x1, y1), (x2, y2), (0, 0, 255), 1, lineType=cv2.LINE_AA)\n",
    "            cols += 1\n",
    "\n",
    "    # 水平直线数量大于垂直直线数量, 则推断手机处于竖屏状态\n",
    "    if rows > cols:\n",
    "        # 竖屏\n",
    "        return True\n",
    "    else:\n",
    "        # 横屏\n",
    "        return False"
   ]
  },
  {
   "cell_type": "markdown",
   "metadata": {},
   "source": [
    "## 文本倾斜校正\n",
    "> 通过仿射变换对倾斜角度进行校正"
   ]
  },
  {
   "cell_type": "code",
   "execution_count": null,
   "metadata": {
    "code_folding": [
     0
    ]
   },
   "outputs": [],
   "source": [
    "#-*- coding:utf-8 -*-\n",
    "\n",
    "import cv2\n",
    "import numpy as np\n",
    "\n",
    "'''\n",
    "https://mp.weixin.qq.com/s/3ERz-AS08ybfTZ46RJXxrw\n",
    "'''\n",
    "\n",
    "image = cv2.imread(\"imageTextR.png\")\n",
    "img = image.copy()\n",
    "\n",
    "gray = cv2.cvtColor(img, cv2.COLOR_BGR2GRAY)\n",
    "\n",
    "# 进行图像反转(即将文字变成浅色的而背景变成深色的)\n",
    "# 在计算机上执行图像操作的时候，一般前景色设为浅色，而背景(图像中我们不关心的部分)设为黑色\n",
    "gray = cv2.bitwise_not(gray)\n",
    "\n",
    "_, thresh = cv2.threshold(gray, 0, 255, cv2.THRESH_BINARY | cv2.THRESH_OTSU)\n",
    "\n",
    "# `thresh > 0` 提取二值化图像上像素值大于0(也即255)的点\n",
    "# 目的: 找出二值图像中包含前景色部分的(x, y)坐标\n",
    "coords = np.column_stack(np.where(thresh > 0))\n",
    "\n",
    "# 通过计算最小外接矩阵获取文本旋转角度 (返回一个[-90, 0)区间内的角度)\n",
    "angle = cv2.minAreaRect(coords)[-1]\n",
    "\n",
    "\n",
    "if angle < -45:\n",
    "    angle = -(90 + angle)\n",
    "else:\n",
    "    angle = -angle\n",
    "\n",
    "# 确定图像的中心坐标\n",
    "(h, w) = image.shape[:2]\n",
    "center = (w // 2, h // 2)\n",
    "\n",
    "# 通过中心坐标和旋转角度计算旋转矩阵M\n",
    "M = cv2.getRotationMatrix2D(center, angle, 1.0)\n",
    "\n",
    "# 通过仿射变换对倾斜角度进行校正\n",
    "rotated = cv2.warpAffine(image, M, (w, h),\n",
    "    flags=cv2.INTER_CUBIC, borderMode=cv2.BORDER_REPLICATE)\n",
    "\n",
    "cv2.putText(rotated, \"Angle: {:.2f} degrees\".format(angle),\n",
    "    (10, 15), cv2.FONT_HERSHEY_SIMPLEX, 0.5, (0, 0, 255), 2)\n",
    "\n",
    "cv2.imshow('image1', image)\n",
    "cv2.imshow('image2', rotated)\n",
    "cv2.waitKey(0)\n",
    "cv2.destroyAllWindows()"
   ]
  },
  {
   "cell_type": "markdown",
   "metadata": {},
   "source": [
    "## KNN 进行数据分类\n",
    "> k-Nearest Neighbour 是监督学习分类器, 可以进行多类别分类"
   ]
  },
  {
   "cell_type": "code",
   "execution_count": null,
   "metadata": {
    "code_folding": [
     0
    ]
   },
   "outputs": [],
   "source": [
    "#-*- coding:utf-8 -*-\n",
    "\n",
    "import cv2\n",
    "import numpy as np\n",
    "import matplotlib.pyplot as plt\n",
    "\n",
    "\n",
    "# 准备训练数据 (30, 2) => 30组训练数据, 每组数据有两个元素\n",
    "trainData = np.random.randint(0, 100, (30, 2)).astype(np.float32)\n",
    "# 准备标签[训练数据分为`3`类] (30, 1) => 30组标签数据, 每组标签数据有一个元素\n",
    "responses = np.random.randint(0, 3, (30, 1)).astype(np.float32)\n",
    "\n",
    "# 展示训练数据\n",
    "red = trainData[responses.ravel() == 0]\n",
    "plt.scatter(red[:, 0], red[:, 1], 80, 'r', '^')\n",
    "\n",
    "green = trainData[responses.ravel() == 1]\n",
    "plt.scatter(green[:, 0], green[:, 1], 80, 'g', 'd')\n",
    "\n",
    "blue = trainData[responses.ravel() == 2]\n",
    "plt.scatter(blue[:, 0], blue[:, 1], 80, 'b', 's')\n",
    "\n",
    "\n",
    "# 准备测试数据 (5, 2) => 5组测试数据, 每组数据有两个元素\n",
    "newcomer = np.random.randint(0, 100, (5, 2)).astype(np.float32)\n",
    "plt.scatter(newcomer[:, 0], newcomer[:, 1], 80, 'y', 'o')\n",
    "\n",
    "# 进行 KNN 分类\n",
    "knn = cv2.ml.KNearest_create()\n",
    "knn.train(trainData, cv2.ml.ROW_SAMPLE, responses)\n",
    "ret, results, neighbours, dist = knn.findNearest(newcomer, k=5)\n",
    "\n",
    "print 'result: {}\\n'.format(results)\n",
    "print 'neighbours: {}\\n'.format(neighbours)\n",
    "print 'distance: {}\\n'.format(dist)\n",
    "\n",
    "plt.show()"
   ]
  },
  {
   "cell_type": "markdown",
   "metadata": {},
   "source": [
    "## 实战 (使用KNN进行手写数字识别)"
   ]
  },
  {
   "cell_type": "code",
   "execution_count": null,
   "metadata": {
    "code_folding": [
     0
    ]
   },
   "outputs": [],
   "source": [
    "#-*- coding:utf-8 -*-\n",
    "\n",
    "import cv2\n",
    "import numpy as np\n",
    "import matplotlib.pyplot as plt\n",
    "\n",
    "\n",
    "# 图片中有 50000 个手写数字 (每个数字重复 500 遍)\n",
    "# 每个数字是一个 20x20 的小图\n",
    "img = cv2.imread(\"../imgs/digits.png\")\n",
    "gray = cv2.cvtColor(img, cv2.COLOR_BGR2GRAY)\n",
    "# print gray.shape        # (1000, 2000)\n",
    "\n",
    "# np.vsplit(gray, 50) ==> 50 = 1000(图片高度) / 20(数字高度)\n",
    "# np.hsplit(row, 100) ==> 100 = 2000(图片宽度) / 20(数字宽度)\n",
    "cells = [np.hsplit(row, 100) for row in np.vsplit(gray, 50)]\n",
    "x = np.array(cells)\n",
    "# print x.shape             # (50, 100, 20, 20)\n",
    "\n",
    "# 使用每个数字的前 250 个样本做训练数据\n",
    "train = x[:, :50].reshape(-1, 400).astype(np.float32)       # Size = (2500, 400)\n",
    "# 使用每个数字的后 250 个样本做测试数据\n",
    "test = x[:, 50:100].reshape(-1, 400).astype(np.float32)     # Size = (2500, 400)\n",
    "\n",
    "# 准备训练标签\n",
    "num = np.arange(10)\n",
    "train_labels = np.repeat(num, 250)[:, np.newaxis]   # Size = (2500, 1)\n",
    "test_labels = train_labels.copy()                   # Size = (2500, 1)\n",
    "\n",
    "# KNN分类\n",
    "knn = cv2.ml.KNearest_create()\n",
    "knn.train(train, cv2.ml.ROW_SAMPLE, train_labels)\n",
    "ret, result, neighbours, dist = knn.findNearest(test, k=5)\n",
    "\n",
    "# 分析结果\n",
    "matches = result == test_labels\n",
    "correct = np.count_nonzero(matches)\n",
    "accuracy = correct * 100.0 / result.size\n",
    "print 'accuracy={}'.format(accuracy)\n",
    "\n",
    "\n",
    "# 保存测试数据\n",
    "np.savez(\"knn_ocr_data.npz\", train=train, train_labels=train_labels)\n",
    "\n",
    "# 加载测试数据\n",
    "with np.load('knn_ocr_data.npz') as data:\n",
    "    print data.files        # ['train_labels', 'train']\n",
    "    print data['train']\n",
    "    print data['train_labels']"
   ]
  },
  {
   "cell_type": "markdown",
   "metadata": {},
   "source": [
    "## K值聚类 "
   ]
  },
  {
   "cell_type": "markdown",
   "metadata": {},
   "source": [
    "### 仅有一个特征的数据"
   ]
  },
  {
   "cell_type": "code",
   "execution_count": null,
   "metadata": {
    "code_folding": [
     0
    ]
   },
   "outputs": [],
   "source": [
    "#-*- coding:utf-8 -*-\n",
    "\n",
    "import cv2\n",
    "import numpy as np\n",
    "import matplotlib.pyplot as plt\n",
    "\n",
    "\n",
    "x = np.random.randint(25, 100, 25)\n",
    "y = np.random.randint(175, 255, 25)\n",
    "z = np.hstack((x, y))\n",
    "z = z.reshape((50, 1))\n",
    "z = np.float32(z)\n",
    "\n",
    "# criteria = (type, max_iter=10, epsilon=1.0 )\n",
    "criteria = (cv2.TERM_CRITERIA_EPS + cv2.TERM_CRITERIA_MAX_ITER, 10, 1.0)\n",
    "\n",
    "# kmeans(data, K, bestLabels, criteria, attempts, flags, centers=None)\n",
    "## data: 应该是 np.float32 类型的数据，每个特征应该放在一列\n",
    "## K： 聚类的最终数目\n",
    "## criteria: 止迭代的条件。当条件满足时，算法的迭代终止。是一个三元组，(type, max_iter，epsilon）\n",
    "## attempts: 使用不同的起始标记来执行算法的次数。算法会返回紧密度最好的标记\n",
    "## flags: 用来设置如何选择起始重心\n",
    "compactness, labels, centers = cv2.kmeans(z, 2, None, criteria, 10, cv2.KMEANS_RANDOM_CENTERS)\n",
    "# compactness：紧密度，返回每个点到相应重心的距离的平方和\n",
    "# labels： 标志数组，每个成员被标记为 0， 1等\n",
    "# centers：由聚类的中心组成的数组\n",
    "print centers   # [[59.199997], [216.56]]\n",
    "\n",
    "\n",
    "A = z[labels == 0]\n",
    "B = z[labels == 1]\n",
    "plt.hist(A, 256, [0, 256], color='r')\n",
    "plt.hist(B, 256, [0, 256], color='b')\n",
    "plt.hist(centers, 32, [0, 256], color='y')\n",
    "plt.show()"
   ]
  },
  {
   "cell_type": "markdown",
   "metadata": {},
   "source": [
    "### 含有多个特征的数据"
   ]
  },
  {
   "cell_type": "code",
   "execution_count": null,
   "metadata": {
    "code_folding": [
     0
    ]
   },
   "outputs": [],
   "source": [
    "#-*- coding:utf-8 -*-\n",
    "\n",
    "import cv2\n",
    "import numpy as np\n",
    "import matplotlib.pyplot as plt\n",
    "\n",
    "X = np.random.randint(25, 50, (25, 2))\n",
    "Y = np.random.randint(60, 85, (25, 2))\n",
    "Z = np.vstack((X, Y))\n",
    "Z = np.float32(Z)\n",
    "\n",
    "criteria = (cv2.TERM_CRITERIA_EPS + cv2.TERM_CRITERIA_MAX_ITER, 10, 1.0)\n",
    "compactness, labels, centers = cv2.kmeans(Z, 2, None, criteria, 10, cv2.KMEANS_RANDOM_CENTERS)\n",
    "\n",
    "A = Z[labels.ravel() == 0]\n",
    "B = Z[labels.ravel() == 1]\n",
    "\n",
    "plt.scatter(A[:,0],A[:,1])\n",
    "plt.scatter(B[:,0],B[:,1],c = 'r')\n",
    "plt.scatter(centers[:,0],centers[:,1],s = 80,c = 'y', marker = 's')\n",
    "plt.xlabel('Height'),plt.ylabel('Weight')\n",
    "plt.show()"
   ]
  },
  {
   "cell_type": "markdown",
   "metadata": {},
   "source": [
    "### 实战 (使用K-Means进行颜色量化)"
   ]
  },
  {
   "cell_type": "code",
   "execution_count": null,
   "metadata": {
    "code_folding": [
     0
    ]
   },
   "outputs": [],
   "source": [
    "#-*- coding:utf-8 -*-\n",
    "\n",
    "\"\"\"\n",
    "    颜色量化: 减少图片中颜色数目 (有些设备的资源有限，只能显示很少的颜色)\n",
    "    把图片数据变形成 Mx3（M是图片中像素点的数目）的向量。聚类完成后，\n",
    "    用聚类中心值替换与其同组的像素值，这样结果图片就只含有指定数目的颜色了\n",
    "\"\"\"\n",
    "\n",
    "import cv2\n",
    "import numpy as np\n",
    "\n",
    "img = cv2.imread('../imgs/home.jpg')\n",
    "Z = img.reshape((-1, 3))\n",
    "Z = np.float32(Z)\n",
    "\n",
    "criteria = (cv2.TERM_CRITERIA_EPS + cv2.TERM_CRITERIA_MAX_ITER, 10, 1.0)\n",
    "color_num = 4\n",
    "compactness, labels, centers = cv2.kmeans(Z, color_num, None, criteria, 10, cv2.KMEANS_RANDOM_CENTERS)\n",
    "\n",
    "centers = np.uint8(centers)\n",
    "\n",
    "# labels.shape = (-1, 1), 需要调用 flatten() 进行展平\n",
    "result = centers[labels.flatten()]\n",
    "result = result.reshape(img.shape)\n",
    "\n",
    "cv2.imshow('result', result)\n",
    "cv2.waitKey(0)\n",
    "cv2.destroyAllWindows()"
   ]
  }
 ],
 "metadata": {
  "kernelspec": {
   "display_name": "Python 2",
   "language": "python",
   "name": "python2"
  },
  "language_info": {
   "codemirror_mode": {
    "name": "ipython",
    "version": 2
   },
   "file_extension": ".py",
   "mimetype": "text/x-python",
   "name": "python",
   "nbconvert_exporter": "python",
   "pygments_lexer": "ipython2",
   "version": "2.7.15"
  },
  "toc": {
   "base_numbering": 1,
   "nav_menu": {},
   "number_sections": true,
   "sideBar": true,
   "skip_h1_title": false,
   "title_cell": "Table of Contents",
   "title_sidebar": "Contents",
   "toc_cell": true,
   "toc_position": {},
   "toc_section_display": true,
   "toc_window_display": true
  }
 },
 "nbformat": 4,
 "nbformat_minor": 2
}
