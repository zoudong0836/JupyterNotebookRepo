{
 "cells": [
  {
   "cell_type": "markdown",
   "metadata": {
    "toc": true
   },
   "source": [
    "<h1>Table of Contents<span class=\"tocSkip\"></span></h1>\n",
    "<div class=\"toc\"><ul class=\"toc-item\"><li><span><a href=\"#异常处理\" data-toc-modified-id=\"异常处理-1\"><span class=\"toc-item-num\">1&nbsp;&nbsp;</span>异常处理</a></span><ul class=\"toc-item\"><li><span><a href=\"#sys.exc_info()--获取异常详细信息\" data-toc-modified-id=\"sys.exc_info()--获取异常详细信息-1.1\"><span class=\"toc-item-num\">1.1&nbsp;&nbsp;</span>sys.exc_info()  获取异常详细信息</a></span></li><li><span><a href=\"#traceback-该模块提供了一整套接口用于提取、格式化和打印stack信息\" data-toc-modified-id=\"traceback-该模块提供了一整套接口用于提取、格式化和打印stack信息-1.2\"><span class=\"toc-item-num\">1.2&nbsp;&nbsp;</span>traceback 该模块提供了一整套接口用于提取、格式化和打印stack信息</a></span></li></ul></li></ul></div>"
   ]
  },
  {
   "cell_type": "markdown",
   "metadata": {},
   "source": [
    "## 异常处理 \n",
    "[Link1](https://www.jianshu.com/p/a8cb5375171a)"
   ]
  },
  {
   "cell_type": "markdown",
   "metadata": {},
   "source": [
    "### sys.exc_info()  获取异常详细信息\n",
    "\n",
    "* This function returns a tuple of three values that give information about the exception that is currently being handled. The information returned is specific both to the current thread and to the current stack frame. If the current stack frame is not handling an exception, the information is taken from the calling stack frame, or its caller, and so on until a stack frame is found that is handling an exception. Here, “handling an exception” is defined as “executing or having executed an except clause.” For any stack frame, only information about the most recently handled exception is accessible.\n",
    "\n",
    "* If no exception is being handled anywhere on the stack, a tuple containing three None values is returned. Otherwise, the values returned are (type, value, traceback). Their meaning is: `type` gets the exception type of the exception being handled (a class object); `value` gets the exception parameter (its associated value or the second argument to raise, which is always a class instance if the exception type is a class object); `traceback` gets a traceback object (see the Reference Manual) which encapsulates the call stack at the point where the exception originally occurred.\n",
    "\n",
    "* If exc_clear() is called, this function will return three None values until either another exception is raised in the current thread or the execution stack returns to a frame where another exception is being handled.\n"
   ]
  },
  {
   "cell_type": "markdown",
   "metadata": {},
   "source": [
    "### traceback 该模块提供了一整套接口用于提取、格式化和打印stack信息\n",
    "* traceback.print_tb(tb[, limit[, file]])\n",
    "* traceback.print_exception(etype, value, tb[, limit[, file]])\n",
    "* traceback.print_exc([limit[, file]])\n",
    "* traceback.format_exc([limit])\n",
    "* traceback.extract_tb(tb[, limit])"
   ]
  },
  {
   "cell_type": "code",
   "execution_count": null,
   "metadata": {
    "code_folding": [
     0
    ]
   },
   "outputs": [],
   "source": [
    "#-*- coding:utf-8 -*-\n",
    "\n",
    "import sys\n",
    "import traceback\n",
    "\n",
    "'''\n",
    "traceback.print_tb(tb[, limit[, file]])\n",
    "* tb: 这个就是traceback object, 通过sys.exc_info获取到的\n",
    "* limit: 这个是限制stack trace层级的，如果不设或者为None，就会打印所有层级的stack trace\n",
    "* file: 这个是设置打印的输出流的，可以为文件，也可以是stdout之类的file-like object。\n",
    "        如果不设或为None，则输出到sys.stderr\n",
    "'''\n",
    "\n",
    "\n",
    "def func1():\n",
    "    raise NameError(\"--func1 exception--\")\n",
    "\n",
    "def main():\n",
    "    try:\n",
    "        func1()\n",
    "    except Exception as e:\n",
    "        exc_type, exc_value, exc_traceback_obj = sys.exc_info()\n",
    "        traceback.print_tb(exc_traceback_obj)\n",
    "        \n",
    "main()\n",
    "\n",
    "'''\n",
    "File \"<ipython-input-3-f712f8bdda2a>\", line 9, in main\n",
    "    func1()\n",
    "  File \"<ipython-input-3-f712f8bdda2a>\", line 5, in func1\n",
    "    raise NameError(\"--func1 exception--\")\n",
    "'''"
   ]
  },
  {
   "cell_type": "code",
   "execution_count": null,
   "metadata": {
    "code_folding": [
     0
    ]
   },
   "outputs": [],
   "source": [
    "#-*- coding:utf-8 -*-\n",
    "\n",
    "import sys\n",
    "import traceback\n",
    "\n",
    "def func1():\n",
    "    raise NameError(\"--func1 exception--\")\n",
    "\n",
    "def func2():\n",
    "    func1()\n",
    "    \n",
    "def main():\n",
    "    try:\n",
    "        func2()\n",
    "    except Exception as e:\n",
    "        exc_type, exc_value, exc_traceback_obj = sys.exc_info()\n",
    "        traceback.print_exception(exc_type, exc_value, exc_traceback_obj, \n",
    "                                  limit=2, file=sys.stdout)\n",
    "        \n",
    "main()\n",
    "\n",
    "'''\n",
    "Traceback (most recent call last):\n",
    "  File \"<ipython-input-17-f28ed68fae5e>\", line 12, in main\n",
    "    func2()\n",
    "  File \"<ipython-input-17-f28ed68fae5e>\", line 8, in func2\n",
    "    func1()\n",
    "NameError: --func1 exception--\n",
    "'''"
   ]
  },
  {
   "cell_type": "code",
   "execution_count": null,
   "metadata": {},
   "outputs": [],
   "source": []
  }
 ],
 "metadata": {
  "kernelspec": {
   "display_name": "Python 2",
   "language": "python",
   "name": "python2"
  },
  "language_info": {
   "codemirror_mode": {
    "name": "ipython",
    "version": 2
   },
   "file_extension": ".py",
   "mimetype": "text/x-python",
   "name": "python",
   "nbconvert_exporter": "python",
   "pygments_lexer": "ipython2",
   "version": "2.7.15"
  },
  "toc": {
   "base_numbering": 1,
   "nav_menu": {},
   "number_sections": true,
   "sideBar": true,
   "skip_h1_title": false,
   "title_cell": "Table of Contents",
   "title_sidebar": "Contents",
   "toc_cell": true,
   "toc_position": {},
   "toc_section_display": true,
   "toc_window_display": true
  }
 },
 "nbformat": 4,
 "nbformat_minor": 2
}
