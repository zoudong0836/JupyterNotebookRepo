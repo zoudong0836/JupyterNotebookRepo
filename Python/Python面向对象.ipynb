{
 "cells": [
  {
   "cell_type": "markdown",
   "metadata": {
    "toc": true
   },
   "source": [
    "<h1>Table of Contents<span class=\"tocSkip\"></span></h1>\n",
    "<div class=\"toc\"><ul class=\"toc-item\"><li><span><a href=\"#Python-中类方法、类实例方法、静态方法有何区别?\" data-toc-modified-id=\"Python-中类方法、类实例方法、静态方法有何区别?-1\"><span class=\"toc-item-num\">1&nbsp;&nbsp;</span>Python 中类方法、类实例方法、静态方法有何区别?</a></span></li><li><span><a href=\"#Python-中如何动态获取和设置对象的属性?\" data-toc-modified-id=\"Python-中如何动态获取和设置对象的属性?-2\"><span class=\"toc-item-num\">2&nbsp;&nbsp;</span>Python 中如何动态获取和设置对象的属性?</a></span></li><li><span><a href=\"#Python-函数调用的时候参数的传递方式是值传递还是引用传递？\" data-toc-modified-id=\"Python-函数调用的时候参数的传递方式是值传递还是引用传递？-3\"><span class=\"toc-item-num\">3&nbsp;&nbsp;</span>Python 函数调用的时候参数的传递方式是值传递还是引用传递？</a></span></li></ul></div>"
   ]
  },
  {
   "cell_type": "markdown",
   "metadata": {},
   "source": [
    "## Python 中类方法、类实例方法、静态方法有何区别?   \n",
    "<br/>  \n",
    "* `类方法`: 是类对象的方法，在定义时需要在上方使用`@classmethod`进行装饰，形参为`cls`，表示类对象，类对象和实例对象都可调用\n",
    "* `类实例方法`: 是类实例化对象的方法，只有实例对象可以调用，形参为`self`，指代对象本身\n",
    "* `静态方法`: 是一个任意函数，在其上方使用`@staticmethod`进行装饰，可以用对象直接调用，静态方法实际上跟该类没有太大关系"
   ]
  },
  {
   "cell_type": "markdown",
   "metadata": {},
   "source": [
    "## Python 中如何动态获取和设置对象的属性?\n",
    "\n",
    "```python\n",
    "class Parent(object):\n",
    "    \n",
    "    x = 101                   # 类变量\n",
    "\n",
    "    def __init__(self):\n",
    "        self.y = 201          # 实例变量\n",
    "\n",
    "if __name__ == '__main__':\n",
    "\n",
    "    if hasattr(Parent, 'x'):\n",
    "        print getattr(Parent, 'x')       # 101\n",
    "        setattr(Parent, 'x', 1001)\n",
    "\n",
    "    print getattr(Parent, 'x')           # 1001        \n",
    "\n",
    "    p = Parent()\n",
    "    if hasattr(p, 'y'):\n",
    "        print getattr(p, 'y')            # 201\n",
    "        setattr(p, 'y', 2001)\n",
    "\n",
    "    print getattr(p, 'y')                # 2001\n",
    "```"
   ]
  },
  {
   "cell_type": "markdown",
   "metadata": {},
   "source": [
    "## Python 函数调用的时候参数的传递方式是值传递还是引用传递？\n",
    "[Link1](https://www.cnblogs.com/bingabcd/p/6671368.html)\n",
    "\n"
   ]
  },
  {
   "cell_type": "code",
   "execution_count": null,
   "metadata": {},
   "outputs": [],
   "source": []
  }
 ],
 "metadata": {
  "kernelspec": {
   "display_name": "Python 2",
   "language": "python",
   "name": "python2"
  },
  "language_info": {
   "codemirror_mode": {
    "name": "ipython",
    "version": 2
   },
   "file_extension": ".py",
   "mimetype": "text/x-python",
   "name": "python",
   "nbconvert_exporter": "python",
   "pygments_lexer": "ipython2",
   "version": "2.7.15"
  },
  "toc": {
   "base_numbering": 1,
   "nav_menu": {},
   "number_sections": true,
   "sideBar": true,
   "skip_h1_title": false,
   "title_cell": "Table of Contents",
   "title_sidebar": "Contents",
   "toc_cell": true,
   "toc_position": {},
   "toc_section_display": true,
   "toc_window_display": true
  }
 },
 "nbformat": 4,
 "nbformat_minor": 2
}
