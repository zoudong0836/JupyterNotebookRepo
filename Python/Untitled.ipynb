{
 "cells": [
  {
   "cell_type": "markdown",
   "metadata": {
    "toc": true
   },
   "source": [
    "<h1>Table of Contents<span class=\"tocSkip\"></span></h1>\n",
    "<div class=\"toc\"><ul class=\"toc-item\"><li><span><a href=\"#Q:-这两个参数是什么意思：*args，**kwargs？\" data-toc-modified-id=\"Q:-这两个参数是什么意思：*args，**kwargs？-1\"><span class=\"toc-item-num\">1&nbsp;&nbsp;</span>Q: 这两个参数是什么意思：*args，**kwargs？</a></span></li><li><span><a href=\"#Q:-谈一谈Python的装饰器（decorator）\" data-toc-modified-id=\"Q:-谈一谈Python的装饰器（decorator）-2\"><span class=\"toc-item-num\">2&nbsp;&nbsp;</span>Q: 谈一谈Python的装饰器（decorator）</a></span></li><li><span><a href=\"#Q:-简要描述Python的垃圾回收机制（garbage-collection）\" data-toc-modified-id=\"Q:-简要描述Python的垃圾回收机制（garbage-collection）-3\"><span class=\"toc-item-num\">3&nbsp;&nbsp;</span>Q: 简要描述Python的垃圾回收机制（garbage collection）</a></span></li><li><span><a href=\"#Python多线程(multi-threading)，这是个好主意吗？\" data-toc-modified-id=\"Python多线程(multi-threading)，这是个好主意吗？-4\"><span class=\"toc-item-num\">4&nbsp;&nbsp;</span>Python多线程(multi-threading)，这是个好主意吗？</a></span></li><li><span><a href=\"#什么是lambda表达式？它有什么好处？\" data-toc-modified-id=\"什么是lambda表达式？它有什么好处？-5\"><span class=\"toc-item-num\">5&nbsp;&nbsp;</span>什么是lambda表达式？它有什么好处？</a></span></li><li><span><a href=\"#Python里面如何拷贝一个对象？\" data-toc-modified-id=\"Python里面如何拷贝一个对象？-6\"><span class=\"toc-item-num\">6&nbsp;&nbsp;</span>Python里面如何拷贝一个对象？</a></span></li><li><span><a href=\"#__new__和__init__的区别\" data-toc-modified-id=\"__new__和__init__的区别-7\"><span class=\"toc-item-num\">7&nbsp;&nbsp;</span>__new__和__init__的区别</a></span></li><li><span><a href=\"#Python中单下划线和双下划线分别是什么?\" data-toc-modified-id=\"Python中单下划线和双下划线分别是什么?-8\"><span class=\"toc-item-num\">8&nbsp;&nbsp;</span>Python中单下划线和双下划线分别是什么?</a></span></li><li><span><a href=\"#如何实现上下文管理器?\" data-toc-modified-id=\"如何实现上下文管理器?-9\"><span class=\"toc-item-num\">9&nbsp;&nbsp;</span>如何实现上下文管理器?</a></span></li><li><span><a href=\"#@property装饰器的作用？\" data-toc-modified-id=\"@property装饰器的作用？-10\"><span class=\"toc-item-num\">10&nbsp;&nbsp;</span>@property装饰器的作用？</a></span></li><li><span><a href=\"#通过一行代码实现列表的首字母大写\" data-toc-modified-id=\"通过一行代码实现列表的首字母大写-11\"><span class=\"toc-item-num\">11&nbsp;&nbsp;</span>通过一行代码实现列表的首字母大写</a></span></li><li><span><a href=\"#通过一行代码实现[1,-3,-5,-7,-9]-到-13579-的转换\" data-toc-modified-id=\"通过一行代码实现[1,-3,-5,-7,-9]-到-13579-的转换-12\"><span class=\"toc-item-num\">12&nbsp;&nbsp;</span>通过一行代码实现[1, 3, 5, 7, 9] 到 13579 的转换</a></span></li><li><span><a href=\"#通过一行代码过滤掉一个序列中的空字符串\" data-toc-modified-id=\"通过一行代码过滤掉一个序列中的空字符串-13\"><span class=\"toc-item-num\">13&nbsp;&nbsp;</span>通过一行代码过滤掉一个序列中的空字符串</a></span></li><li><span><a href=\"#__future__-的作用\" data-toc-modified-id=\"__future__-的作用-14\"><span class=\"toc-item-num\">14&nbsp;&nbsp;</span>__future__ 的作用</a></span></li><li><span><a href=\"#统计任意字符串中每个字符出现的个数\" data-toc-modified-id=\"统计任意字符串中每个字符出现的个数-15\"><span class=\"toc-item-num\">15&nbsp;&nbsp;</span>统计任意字符串中每个字符出现的个数</a></span></li><li><span><a href=\"#实现一个FIFO的dict，当容量超出限制时，删除最早添加的key\" data-toc-modified-id=\"实现一个FIFO的dict，当容量超出限制时，删除最早添加的key-16\"><span class=\"toc-item-num\">16&nbsp;&nbsp;</span>实现一个FIFO的dict，当容量超出限制时，删除最早添加的key</a></span></li></ul></div>"
   ]
  },
  {
   "cell_type": "markdown",
   "metadata": {},
   "source": [
    "## Q: 这两个参数是什么意思：\\*args，\\*\\*kwargs？\n",
    "\n",
    "<br/>**A1**: 如果我们不确定往一个函数中传入多少参数，或者我们希望以元组（tuple）或者列表（list）的形式传参数的时候，我们可以使用*args（单星号）。如果我们不知道往函数中传递多少个关键词参数或者想传入字典的值作为关键词参数的时候我们可以使用**kwargs（双星号），args、kwargs两个标识符是约定俗成的用法\n",
    "\n",
    "<br/>**A2**: 当函数的参数前面有一个星号\\*号的时候表示这是一个可变的位置参数，两个星号\\*\\*表示这个是一个可变的关键词参数。星号\\*把序列或者集合解包（unpack）成位置参数，两个星号\\*\\*把字典解包成关键词参数"
   ]
  },
  {
   "cell_type": "code",
   "execution_count": null,
   "metadata": {
    "code_folding": [
     0
    ]
   },
   "outputs": [],
   "source": [
    "#-*- coding:utf-8 -*-\n",
    "\n",
    "tempList = [1, 2, 3]\n",
    "tempTuple = (2, 3, 4)\n",
    "tempDict = {'s' : 3, 'm' : 4, 'c' : 5}\n",
    "\n",
    "def testFunc(*args, **kwargs):\n",
    "    print args, kwargs\n",
    "\n",
    "\n",
    "testFunc()\n",
    "print '=' * 100\n",
    "\n",
    "testFunc(*tempList)\n",
    "print '=' * 100\n",
    "\n",
    "testFunc(tempList)\n",
    "print '=' * 100\n",
    "\n",
    "testFunc(*tempTuple)\n",
    "print '=' * 100\n",
    "\n",
    "testFunc(tempTuple)\n",
    "print '=' * 100\n",
    "\n",
    "testFunc(*tempDict)\n",
    "print '=' * 100\n",
    "\n",
    "testFunc(tempDict)\n",
    "print '=' * 100\n",
    "\n",
    "testFunc(0, *tempList)\n",
    "print '=' * 100\n",
    "\n",
    "testFunc(tempName=\"byte\", **tempDict)\n",
    "print '=' * 100\n",
    "\n",
    "testFunc(*tempList, **tempDict)\n",
    "print '=' * 100"
   ]
  },
  {
   "cell_type": "markdown",
   "metadata": {},
   "source": [
    "## Q: 谈一谈Python的装饰器（decorator）\n",
    "<br/>**A**:  装饰器本质上是一个Python函数，它可以让其它函数在不作任何变动的情况下增加额外功能，装饰器的返回值也是一个函数对象。它经常用于有切面需求的场景。比如：插入日志、性能测试、事务处理、缓存、权限校验等。有了装饰器我们就可以抽离出大量的与函数功能无关的雷同代码进行重用\n",
    "\n",
    "[Link1](https://www.liaoxuefeng.com/wiki/0014316089557264a6b348958f449949df42a6d3a2e542c000/0014318435599930270c0381a3b44db991cd6d858064ac0000)"
   ]
  },
  {
   "cell_type": "code",
   "execution_count": null,
   "metadata": {
    "code_folding": [
     0
    ]
   },
   "outputs": [],
   "source": [
    "#-*- coding:utf-8 -*-\n",
    "\n",
    "import time\n",
    "import datetime\n",
    "import functools\n",
    "\n",
    "def costTime(func):\n",
    "    @functools.wraps(func)\n",
    "    def wrapper(*args, **kwargs):\n",
    "        starttime = time.time()\n",
    "        print '%s startTime: %s' % (func.__name__, starttime)\n",
    "        result = func(*args, **kwargs)\n",
    "\n",
    "        endtime = time.time()\n",
    "        print '%s endTime: %s' % (func.__name__, endtime)\n",
    "        print 'Total cost: %s' % (endtime - starttime)\n",
    "        return result\n",
    "    return wrapper\n",
    "\n",
    "\n",
    "def execute(cmd):\n",
    "    def decorate(func):\n",
    "        @functools.wraps(func)\n",
    "        def wrapper(*args, **kwargs):\n",
    "            print 'Call %s at:' % func.__name__, cmd()\n",
    "            return func(*args, **kwargs)\n",
    "        return wrapper\n",
    "    return decorate\n",
    "\n",
    "\n",
    "@costTime\n",
    "def f1():\n",
    "    print '2006-11-10'\n",
    "\n",
    "@execute(datetime.datetime.now)\n",
    "def f2():\n",
    "    print '2007-11-10'\n",
    "\n",
    "def f3():\n",
    "    print '2008-11-10'\n",
    "\n",
    "\n",
    "if __name__ == '__main__':\n",
    "    f1()\n",
    "    f2()\n",
    "\n",
    "    f3 = execute(datetime.datetime.now)(f3)\n",
    "    f3()\n",
    "    print f3.__name__"
   ]
  },
  {
   "cell_type": "markdown",
   "metadata": {},
   "source": [
    "## Q: 简要描述Python的垃圾回收机制（garbage collection）\n",
    "<br/>**A**:  Python中的垃圾回收是以`引用计数`为主，`标记-清除`和`分代收集`为辅\n",
    "* 引用计数：Python在内存中存储每个对象的引用计数，如果计数变成0，该对象就会消失，分配给该对象的内存就会释放出来\n",
    "* 标记-清除：一些容器对象，比如list、dict、tuple，instance等可能会出现引用循环，对于这些循环，垃圾回收器会定时回收这些循环（对象之间通过引用（指针）连在一起，构成一个有向图，对象构成这个有向图的节点，而引用关系构成这个有向图的边）\n",
    "* 分代收集：Python把内存根据对象存活时间划分为三代，对象创建之后，垃圾回收器会分配它们所属的代。每个对象都会被分配一个代，而被分配更年轻的代是被优先处理的，因此越晚创建的对象越容易被回收\n",
    "\n",
    "[Link1](https://www.cnblogs.com/pinganzi/p/6646742.html)"
   ]
  },
  {
   "cell_type": "markdown",
   "metadata": {},
   "source": [
    "## Python多线程(multi-threading)，这是个好主意吗？\n",
    "\n",
    "<br/>**A**: Python并不支持真正意义上的多线程，Python提供了多线程包。Python中有一个叫Global Interpreter Lock（GIL）的东西，它能确保你的代码中永远只有一个线程在执行。经过GIL的处理，会增加执行的开销。这就意味着如果你先要提高代码执行效率，使用threading不是一个明智的选择，当然如果你的代码是IO密集型，多线程可以明显提高效率，相反如果你的代码是CPU密集型的这种情况下多线程大部分是鸡肋。\n",
    "\n",
    "<br/>*补充*：GIL 的全称为 Global Interpreter Lock ，意即全局解释器锁。在 Python 语言的主流实现 CPython 中，GIL 是一个货真价实的全局线程锁，在解释器解释执行任何 Python 代码时，都需要先获得这把锁才行，在遇到 I/O 操作时会释放这把锁。如果是纯计算的程序，没有 I/O 操作，解释器会每隔 100 次操作就释放这把锁，让别的线程有机会执行（这个次数可以通过sys.setcheckinterval 来调整）。所以虽然 CPython 的线程库直接封装操作系统的原生线程，但 CPython 进程做为一个整体，同一时间只会有一个获得了 GIL 的线程在跑，其它的线程都处于等待状态等着 GIL 的释放。这也就能解释：在有两个死循环的线程，而且有两个物理 CPU 内核条件下，因为 GIL 的限制，两个线程只是做着分时切换，总的 CPU 占用率还略低于 50％。\n",
    "\n",
    "[Link1](https://blog.csdn.net/q_l_s/article/details/51538039)\n",
    "[Link2](https://blog.csdn.net/luckytanggu/article/details/52183990)\n",
    "[Link3](https://www.cnblogs.com/lidagen/p/7237674.html)"
   ]
  },
  {
   "cell_type": "markdown",
   "metadata": {},
   "source": [
    "## 什么是lambda表达式？它有什么好处？\n",
    "\n",
    "<br/>**A**:  lambda函数有如下特性：\n",
    "* lambda函数是匿名的：所谓匿名函数，通俗地说就是没有名字的函数。lambda函数没有名字\n",
    "* lambda函数有输入和输出：输入是传入到参数列表argument_list的值，输出是根据表达式expression计算得到的值\n",
    "* lambda函数一般功能简单：`单行expression`决定了lambda函数不可能完成复杂的逻辑，只能完成非常简单的功能。由于其实现的功能一目了然，甚至不需要专门的名字来说明\n",
    "\n",
    "<br/>**lambda表达式的优劣**:  使用`lambda`编写的代码更紧凑，更\"pythonic\"；但是，lambda函数能够支持的功能十分有限，其不支持多分支程序if...elif...else...和异常处理程序try ...except...。并且，lambda函数的功能被隐藏，对于编写代码之外的人员来说，理解lambda代码需要耗费一定的理解成本\n",
    "\n",
    "[Link1](https://blog.csdn.net/zjuxsl/article/details/79437563)"
   ]
  },
  {
   "cell_type": "code",
   "execution_count": null,
   "metadata": {
    "code_folding": [
     0
    ]
   },
   "outputs": [],
   "source": [
    "#-*- coding:utf-8 -*-\n",
    "\n",
    "# 用lambda表达式求n的阶乘\n",
    "n = 5\n",
    "print reduce(lambda x, y:x*y, range(1, n+1))\n",
    "\n",
    "\n",
    "# lambda表达式用在def函数中\n",
    "def action(x):\n",
    "    return lambda y: x+y\n",
    "\n",
    "act = action(2)\n",
    "print act(22)\n",
    "\n",
    "\n",
    "# 把def直接写成lambda形式\n",
    "b = lambda x:lambda y:x+y\n",
    "a = b(3)\n",
    "print a(2)\n",
    "print (b(2))(2)"
   ]
  },
  {
   "cell_type": "markdown",
   "metadata": {},
   "source": [
    "## Python里面如何拷贝一个对象？\n",
    "\n",
    "<br/>**A**: Python中对象之间的赋值是按引用传递的，如果要拷贝对象需要使用标准模板中的copy\n",
    "* copy.copy：浅拷贝，只拷贝父对象，不拷贝父对象的子对象\n",
    "* copy.deepcopｙ：深拷贝，拷贝父对象和子对象\n",
    "\n",
    "[Link1](https://www.cnblogs.com/bhlsheji/p/5352330.html)\n",
    "[Link2](https://www.cnblogs.com/shenbuer/p/7977323.html)"
   ]
  },
  {
   "cell_type": "code",
   "execution_count": null,
   "metadata": {
    "code_folding": [
     0
    ]
   },
   "outputs": [],
   "source": [
    "#-*- coding:utf-8 -*-\n",
    "\n",
    "# values = [0, 1, 2]\n",
    "# values[1] = values\n",
    "# print values\n",
    "\n",
    "\n",
    "import copy\n",
    "\n",
    "a = [1, 2, 3, 4, ['a', 'b']]\n",
    "b = a[:]\n",
    "c = a\n",
    "d = copy.copy(a)\n",
    "e = copy.deepcopy(a)\n",
    "\n",
    "a.append(5)\n",
    "a[4].append('c')\n",
    "\n",
    "print 'a = ', a\n",
    "print 'b = ', b\n",
    "print 'c = ', c\n",
    "print 'd = ', d\n",
    "print 'e = ', e\n",
    "\n",
    "\n",
    "\n",
    "def ggg():\n",
    "    l = [1, 2, 3]\n",
    "    print 'local var ', l\n",
    "    return l\n",
    "\n",
    "def fff(l):\n",
    "    l.append(100)\n",
    "    l[2].append('c')\n",
    "    print 'global var ', l\n",
    "    return l\n",
    "\n",
    "a = ggg()\n",
    "print 'a = ', a\n",
    "a.append(10)\n",
    "print 'a = ', a\n",
    "ggg()\n",
    "\n",
    "print '\\n\\n'\n",
    "\n",
    "a = [1, 2, ['a', 'b'], 3]\n",
    "b = fff(a)\n",
    "print a\n",
    "b.append(1000)\n",
    "print b\n",
    "print a"
   ]
  },
  {
   "cell_type": "markdown",
   "metadata": {},
   "source": [
    "## \\_\\_new\\_\\_和\\_\\_init\\_\\_的区别\n",
    "\n",
    "<br/>**A**:  \\_\\_init\\_\\_为初始化方法，\\_\\_new\\_\\_方法是真正的构造函数\n",
    "* \\_\\_new\\_\\_是实例创建之前被调用，它的任务是创建并返回该实例，是静态方法\n",
    "* \\_\\_init\\_\\_是实例创建之后被调用的，然后设置对象属性的一些初始值"
   ]
  },
  {
   "cell_type": "code",
   "execution_count": null,
   "metadata": {
    "code_folding": [
     0
    ]
   },
   "outputs": [],
   "source": [
    "#-*- coding:utf-8 -*-\n",
    "\n",
    "class TestClass(object):\n",
    "\n",
    "    def __new__(cls, *args, **kwargs):\n",
    "        print '__new__() - {}'.format(cls)\n",
    "        return object.__new__(cls, *args, **kwargs)\n",
    "\n",
    "    def __init__(self, testName):\n",
    "        print '__init__'\n",
    "        self.testName = testName\n",
    "\n",
    "\n",
    "\n",
    "class Singleton(object):\n",
    "\n",
    "    def __new__(cls, *args, **kwargs):\n",
    "        if not hasattr(cls, '_instance'):\n",
    "            cls._instance = super(Singleton, cls).__new__(cls, *args, **kwargs)\n",
    "        return cls._instance\n",
    "\n",
    "\n",
    "class DoubleFloat(float):\n",
    "\n",
    "    def __new__(cls, arg = 0.6):\n",
    "        return float.__new__(cls, arg * 2)\n",
    "\n",
    "\n",
    "if __name__ == '__main__':\n",
    "    print TestClass('Json').testName\n",
    "\n",
    "    a1 = Singleton()\n",
    "    a2 = Singleton()\n",
    "    print id(a1)\n",
    "    print id(a2)\n",
    "\n",
    "    a = DoubleFloat()\n",
    "    print a\n",
    "    b = DoubleFloat(1.9)\n",
    "    print b"
   ]
  },
  {
   "cell_type": "markdown",
   "metadata": {},
   "source": [
    "## Python中单下划线和双下划线分别是什么?\n",
    "\n",
    "<br/>**A**:  python中没有像C++、Java那样严格的成员域限制，__双下划线开头成员标识是类私有成员，但是实际上是伪私有，可以通过其他途径直接访问\n",
    "* \\_单下划线开头：弱“内部使用”标识，如：`from M import *`，将不导入所有以下划线开头的对象，包括包，模块、成员\n",
    "* 单下划线结尾\\_\\_：只是为了避免与python关键字的命名冲突\n",
    "* \\_\\_双下划线开头：模块内的成员，表示私有成员，外部无法直接调用\n",
    "* \\_\\_双下划线开头双下划线结尾\\_\\_：指那些python类中的特殊函数或属性，如`__name__，__doc__，__init__，__import__，__file__，__setattr__，__getattr__，__dict__`等，自己写变量和函数、方法名不推荐这样的方式\n",
    "\n",
    "<br/>**变量**:\n",
    "1.  前带_的变量:  标明是一个私有变量, 只用于标明, 外部类还是可以访问到这个变量\n",
    "2.  前带两个_ , 后带两个_ 的变量:  标明是内置变量,\n",
    "\n",
    "<br/>**函数**:\n",
    "1.  前带_的变量: 标明是一个私有函数, 只用于标明,\n",
    "2. 前带两个_ , 后带两个_ 的函数:  标明是特殊函数\n",
    "\n",
    "[Link1](https://www.cnblogs.com/skying555/p/6169110.html)"
   ]
  },
  {
   "cell_type": "markdown",
   "metadata": {},
   "source": [
    "## 如何实现上下文管理器?\n",
    "\n",
    "<br/>**A**:  只要实现了 `__init__ , __enter__, __exit__` 这三个方法就可以说实现了上下文管理器\n",
    "* 简化了代码 \n",
    "* 程序退出时自动关闭 \n",
    "* 操作时出现异常也会自动关闭"
   ]
  },
  {
   "cell_type": "code",
   "execution_count": null,
   "metadata": {},
   "outputs": [],
   "source": [
    "#-*- coding:utf-8 -*-\n",
    "\n",
    "class MyOpen(object):\n",
    "\n",
    "    def __init__(self, filename, mode):\n",
    "        f = open(filename, mode)\n",
    "        self.f = f\n",
    "\n",
    "    def __enter__(self):    # 返回 as 后面的值\n",
    "        return self.f\n",
    "\n",
    "    def __exit__(self, *args):   # 退出时关闭\n",
    "        self.f.close()\n",
    "\n",
    "\n",
    "with MyOpen(__file__, 'r') as f:\n",
    "    print f.read()"
   ]
  },
  {
   "cell_type": "markdown",
   "metadata": {},
   "source": [
    "## @property装饰器的作用？\n",
    "\n",
    "<br/>**A**:  把class的方法变成属性，然后就可以像访问属性一样来调用类里面的方法\n",
    "* 把一个`__getter__`方法变成属性，只需要加上`@property`就可以\n",
    "* 把一个`__setter__`方法变成属性赋值，需要另外的修饰器`@属性名.setter`\n"
   ]
  },
  {
   "cell_type": "code",
   "execution_count": null,
   "metadata": {
    "code_folding": [
     0
    ]
   },
   "outputs": [],
   "source": [
    "#-*- coding:utf-8 -*-\n",
    "\n",
    "class Student(object):\n",
    "\n",
    "    def __init__(self, name, score):\n",
    "        self.__name = name\n",
    "        self.__score = score\n",
    "\n",
    "    @property\n",
    "    def score(self):\n",
    "        return self.__score\n",
    "\n",
    "    @score.setter\n",
    "    def score(self, value):\n",
    "        if not isinstance(value, int):\n",
    "            raise ValueError(\"invalid score!!!\")\n",
    "        elif value < 0 or value > 100:\n",
    "            raise ValueError(\"score must be between [0,100]!!!\")\n",
    "        else:\n",
    "            self.__score = value\n",
    "\n",
    "    @property\n",
    "    def name(self):\n",
    "        return self.__name\n",
    "\n",
    "\n",
    "if __name__ == '__main__':\n",
    "\n",
    "    s = Student('lisi', 90)\n",
    "    print s.name\n",
    "    print s.score\n",
    "\n",
    "    s.score = 50\n",
    "    print s.score"
   ]
  },
  {
   "cell_type": "markdown",
   "metadata": {},
   "source": [
    "## 通过一行代码实现列表的首字母大写"
   ]
  },
  {
   "cell_type": "code",
   "execution_count": null,
   "metadata": {
    "code_folding": [
     0
    ]
   },
   "outputs": [],
   "source": [
    "#-*- coding:utf-8 -*-\n",
    "\n",
    "'''\n",
    "map():  接收两个参数，一个是函数，一个是序列，\n",
    "            map将传入的函数依次作用到序列的每个元素，并把结果作为新的list返回。\n",
    "'''\n",
    "\n",
    "print map(lambda s:s[0:1].upper()+s[1:].lower(), ['admin', 'LIST', 'barT'])\n"
   ]
  },
  {
   "cell_type": "markdown",
   "metadata": {},
   "source": [
    "## 通过一行代码实现[1, 3, 5, 7, 9] 到 13579 的转换"
   ]
  },
  {
   "cell_type": "code",
   "execution_count": null,
   "metadata": {
    "code_folding": [
     0
    ]
   },
   "outputs": [],
   "source": [
    "#-*- coding:utf-8 -*-\n",
    "\n",
    "'''\n",
    "reduce(): 把一个函数作用在一个序列上，这个函数必须接收两个参数，\n",
    "            reduce把结果继续和序列的下一个元素做累积计算\n",
    "            \n",
    "reduce(f, [x1, x2, x3, x4]) = f(f(f(x1, x2), x3), x4)            \n",
    "'''\n",
    "\n",
    "print reduce(lambda x, y:x*10 +y, [1, 3, 5, 7, 9])"
   ]
  },
  {
   "cell_type": "markdown",
   "metadata": {},
   "source": [
    "## 通过一行代码过滤掉一个序列中的空字符串"
   ]
  },
  {
   "cell_type": "code",
   "execution_count": null,
   "metadata": {
    "code_folding": [
     0
    ]
   },
   "outputs": [],
   "source": [
    "#-*- coding:utf-8 -*-\n",
    "\n",
    "'''\n",
    "filter():  接收一个函数和一个序列；把传入的函数依次作用于每个元素，\n",
    "            然后根据返回值是True还是False决定保留还是丢弃该元素。\n",
    "'''\n",
    "\n",
    "print filter(lambda s:s and s.strip(), ['A', '', 'B', None, 'C', '  '])"
   ]
  },
  {
   "cell_type": "markdown",
   "metadata": {},
   "source": [
    "## \\_\\_future\\_\\_ 的作用\n",
    "\n",
    "<br/>**A**:  Python提供`__future__`模块，其目的是把下一个新版本的特性导入到当前版本，于是我们就可以在当前版本中测试一些新版本的特性\n",
    "\n",
    "<br/>**例如**\n",
    "* 为了适应Python 3.x的新的字符串的表示方法，在2.7版本的代码中，可以通过unicode_literals来使用Python 3.x的新的语法\n",
    "```python\n",
    "from __future__ import unicode_literals\n",
    "```\n",
    "* 在Python 2.x中，对于除法有两种情况，如果是整数相除，结果仍是整数，余数会被扔掉，这种除法叫“地板除”，要做精确除法，必须把其中一个数变成浮点数；而在Python 3.x中，所有的除法都是精确除法，地板除用//表示；如果想在Python 2.7的代码中直接使用Python 3.x的除法，可以通过 `__future__` 模块的division实现\n",
    "```python\n",
    "from __future__ import division\n",
    "```"
   ]
  },
  {
   "cell_type": "markdown",
   "metadata": {},
   "source": [
    "## 统计任意字符串中每个字符出现的个数"
   ]
  },
  {
   "cell_type": "code",
   "execution_count": null,
   "metadata": {},
   "outputs": [],
   "source": [
    "#-*- coding:utf-8 -*-\n",
    "\n",
    "from collections import Counter\n",
    "\n",
    "c = Counter()\n",
    "for ch in 'programming':\n",
    "    c[ch] = c[ch] + 1\n",
    "\n",
    "print c\n",
    "print c['g']"
   ]
  },
  {
   "cell_type": "markdown",
   "metadata": {},
   "source": [
    "## 实现一个FIFO的dict，当容量超出限制时，删除最早添加的key"
   ]
  },
  {
   "cell_type": "code",
   "execution_count": null,
   "metadata": {},
   "outputs": [],
   "source": [
    "#-*- coding:utf-8 -*-\n",
    "\n",
    "from collections import OrderedDict\n",
    "\n",
    "class LastUpdatedOrderedDict(OrderedDict):\n",
    "\n",
    "    def __init__(self, capacity):\n",
    "        super(LastUpdatedOrderedDict, self).__init__()\n",
    "        self._capacity = capacity\n",
    "\n",
    "    def __setitem__(self, key, value):\n",
    "        containsKey = 1 if key in self else 0\n",
    "        if len(self) - containsKey >= self._capacity:\n",
    "            last = self.popitem(last=False)\n",
    "            print 'remove: ', last\n",
    "\n",
    "        if containsKey:\n",
    "            print 'set: ', (key, value)\n",
    "        else:\n",
    "            print 'add: ', (key, value)\n",
    "        OrderedDict.__setitem__(self, key, value)\n",
    "\n",
    "fifoDict = LastUpdatedOrderedDict(5)\n",
    "fifoDict['key1'] = 'value1'\n",
    "fifoDict['key1'] = 'value1-1'\n",
    "fifoDict['key3'] = 'value3'\n",
    "fifoDict['key2'] = 'value2'\n",
    "\n",
    "print fifoDict"
   ]
  }
 ],
 "metadata": {
  "kernelspec": {
   "display_name": "Python 2",
   "language": "python",
   "name": "python2"
  },
  "language_info": {
   "codemirror_mode": {
    "name": "ipython",
    "version": 2
   },
   "file_extension": ".py",
   "mimetype": "text/x-python",
   "name": "python",
   "nbconvert_exporter": "python",
   "pygments_lexer": "ipython2",
   "version": "2.7.15"
  },
  "toc": {
   "base_numbering": 1,
   "nav_menu": {},
   "number_sections": true,
   "sideBar": true,
   "skip_h1_title": false,
   "title_cell": "Table of Contents",
   "title_sidebar": "Contents",
   "toc_cell": true,
   "toc_position": {
    "height": "calc(100% - 180px)",
    "left": "10px",
    "top": "150px",
    "width": "272.796875px"
   },
   "toc_section_display": true,
   "toc_window_display": true
  }
 },
 "nbformat": 4,
 "nbformat_minor": 2
}
