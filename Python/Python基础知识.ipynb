{
 "cells": [
  {
   "cell_type": "markdown",
   "metadata": {
    "toc": true
   },
   "source": [
    "<h1>Table of Contents<span class=\"tocSkip\"></span></h1>\n",
    "<div class=\"toc\"><ul class=\"toc-item\"><li><span><a href=\"#Q:-这两个参数是什么意思：*args，**kwargs？\" data-toc-modified-id=\"Q:-这两个参数是什么意思：*args，**kwargs？-1\"><span class=\"toc-item-num\">1&nbsp;&nbsp;</span>Q: 这两个参数是什么意思：*args，**kwargs？</a></span></li><li><span><a href=\"#Q:-谈一谈Python的装饰器（decorator）\" data-toc-modified-id=\"Q:-谈一谈Python的装饰器（decorator）-2\"><span class=\"toc-item-num\">2&nbsp;&nbsp;</span>Q: 谈一谈Python的装饰器（decorator）</a></span></li><li><span><a href=\"#Q:-简要描述Python的垃圾回收机制（garbage-collection）\" data-toc-modified-id=\"Q:-简要描述Python的垃圾回收机制（garbage-collection）-3\"><span class=\"toc-item-num\">3&nbsp;&nbsp;</span>Q: 简要描述Python的垃圾回收机制（garbage collection）</a></span></li><li><span><a href=\"#Python多线程(multi-threading)，这是个好主意吗？\" data-toc-modified-id=\"Python多线程(multi-threading)，这是个好主意吗？-4\"><span class=\"toc-item-num\">4&nbsp;&nbsp;</span>Python多线程(multi-threading)，这是个好主意吗？</a></span></li><li><span><a href=\"#什么是lambda表达式？它有什么好处？\" data-toc-modified-id=\"什么是lambda表达式？它有什么好处？-5\"><span class=\"toc-item-num\">5&nbsp;&nbsp;</span>什么是lambda表达式？它有什么好处？</a></span></li><li><span><a href=\"#Python里面如何拷贝一个对象？\" data-toc-modified-id=\"Python里面如何拷贝一个对象？-6\"><span class=\"toc-item-num\">6&nbsp;&nbsp;</span>Python里面如何拷贝一个对象？</a></span></li><li><span><a href=\"#Python中单下划线和双下划线分别是什么?\" data-toc-modified-id=\"Python中单下划线和双下划线分别是什么?-7\"><span class=\"toc-item-num\">7&nbsp;&nbsp;</span>Python中单下划线和双下划线分别是什么?</a></span></li><li><span><a href=\"#如何实现上下文管理器?\" data-toc-modified-id=\"如何实现上下文管理器?-8\"><span class=\"toc-item-num\">8&nbsp;&nbsp;</span>如何实现上下文管理器?</a></span></li><li><span><a href=\"#@property装饰器的作用？\" data-toc-modified-id=\"@property装饰器的作用？-9\"><span class=\"toc-item-num\">9&nbsp;&nbsp;</span>@property装饰器的作用？</a></span></li><li><span><a href=\"#通过一行代码实现列表的首字母大写\" data-toc-modified-id=\"通过一行代码实现列表的首字母大写-10\"><span class=\"toc-item-num\">10&nbsp;&nbsp;</span>通过一行代码实现列表的首字母大写</a></span></li><li><span><a href=\"#通过一行代码实现[1,-3,-5,-7,-9]-到-13579-的转换\" data-toc-modified-id=\"通过一行代码实现[1,-3,-5,-7,-9]-到-13579-的转换-11\"><span class=\"toc-item-num\">11&nbsp;&nbsp;</span>通过一行代码实现[1, 3, 5, 7, 9] 到 13579 的转换</a></span></li><li><span><a href=\"#通过一行代码过滤掉一个序列中的空字符串\" data-toc-modified-id=\"通过一行代码过滤掉一个序列中的空字符串-12\"><span class=\"toc-item-num\">12&nbsp;&nbsp;</span>通过一行代码过滤掉一个序列中的空字符串</a></span></li><li><span><a href=\"#__future__-的作用\" data-toc-modified-id=\"__future__-的作用-13\"><span class=\"toc-item-num\">13&nbsp;&nbsp;</span>__future__ 的作用</a></span></li><li><span><a href=\"#统计任意字符串中每个字符出现的个数\" data-toc-modified-id=\"统计任意字符串中每个字符出现的个数-14\"><span class=\"toc-item-num\">14&nbsp;&nbsp;</span>统计任意字符串中每个字符出现的个数</a></span></li><li><span><a href=\"#实现一个FIFO的dict，当容量超出限制时，删除最早添加的key\" data-toc-modified-id=\"实现一个FIFO的dict，当容量超出限制时，删除最早添加的key-15\"><span class=\"toc-item-num\">15&nbsp;&nbsp;</span>实现一个FIFO的dict，当容量超出限制时，删除最早添加的key</a></span></li><li><span><a href=\"#1-~-9-可以组成多少个数字-(数字长度不大于5)？\" data-toc-modified-id=\"1-~-9-可以组成多少个数字-(数字长度不大于5)？-16\"><span class=\"toc-item-num\">16&nbsp;&nbsp;</span>1 ~ 9 可以组成多少个数字 (数字长度不大于5)？</a></span></li><li><span><a href=\"#1-~-9-可以组合多个数字-(数字长度等于5)？\" data-toc-modified-id=\"1-~-9-可以组合多个数字-(数字长度等于5)？-17\"><span class=\"toc-item-num\">17&nbsp;&nbsp;</span>1 ~ 9 可以组合多个数字 (数字长度等于5)？</a></span></li><li><span><a href=\"#使用-yield-生成斐波那契數列\" data-toc-modified-id=\"使用-yield-生成斐波那契數列-18\"><span class=\"toc-item-num\">18&nbsp;&nbsp;</span>使用 yield 生成斐波那契數列</a></span></li><li><span><a href=\"#如何理解-iterator-(迭代器)\" data-toc-modified-id=\"如何理解-iterator-(迭代器)-19\"><span class=\"toc-item-num\">19&nbsp;&nbsp;</span>如何理解 iterator (迭代器)</a></span></li><li><span><a href=\"#python类的__slots__属性\" data-toc-modified-id=\"python类的__slots__属性-20\"><span class=\"toc-item-num\">20&nbsp;&nbsp;</span>python类的__slots__属性</a></span></li><li><span><a href=\"#python如何通过参数进行缓存？\" data-toc-modified-id=\"python如何通过参数进行缓存？-21\"><span class=\"toc-item-num\">21&nbsp;&nbsp;</span>python如何通过参数进行缓存？</a></span></li><li><span><a href=\"#.pyc-文件的作用？\" data-toc-modified-id=\".pyc-文件的作用？-22\"><span class=\"toc-item-num\">22&nbsp;&nbsp;</span>.pyc 文件的作用？</a></span></li><li><span><a href=\"#__new__和__init__的区别\" data-toc-modified-id=\"__new__和__init__的区别-23\"><span class=\"toc-item-num\">23&nbsp;&nbsp;</span>__new__和__init__的区别</a></span></li><li><span><a href=\"#python-魔术方法举例\" data-toc-modified-id=\"python-魔术方法举例-24\"><span class=\"toc-item-num\">24&nbsp;&nbsp;</span>python 魔术方法举例</a></span></li><li><span><a href=\"#Python-中-__call__()-方法的作用？\" data-toc-modified-id=\"Python-中-__call__()-方法的作用？-25\"><span class=\"toc-item-num\">25&nbsp;&nbsp;</span>Python 中 __call__() 方法的作用？</a></span></li></ul></div>"
   ]
  },
  {
   "cell_type": "markdown",
   "metadata": {},
   "source": [
    "## Q: 这两个参数是什么意思：\\*args，\\*\\*kwargs？\n",
    "\n",
    "<br/>**A1**: 如果我们不确定往一个函数中传入多少参数，或者我们希望以元组（tuple）或者列表（list）的形式传参数的时候，我们可以使用*args（单星号）。如果我们不知道往函数中传递多少个关键词参数或者想传入字典的值作为关键词参数的时候我们可以使用**kwargs（双星号），args、kwargs两个标识符是约定俗成的用法\n",
    "\n",
    "<br/>**A2**: 当函数的参数前面有一个星号\\*号的时候表示这是一个可变的位置参数，两个星号\\*\\*表示这个是一个可变的关键词参数。星号\\*把序列或者集合解包（unpack）成位置参数，两个星号\\*\\*把字典解包成关键词参数"
   ]
  },
  {
   "cell_type": "code",
   "execution_count": null,
   "metadata": {
    "code_folding": [
     0
    ]
   },
   "outputs": [],
   "source": [
    "#-*- coding:utf-8 -*-\n",
    "\n",
    "tempList = [1, 2, 3]\n",
    "tempTuple = (2, 3, 4)\n",
    "tempDict = {'s' : 3, 'm' : 4, 'c' : 5}\n",
    "\n",
    "def testFunc(*args, **kwargs):\n",
    "    print args, kwargs\n",
    "\n",
    "\n",
    "testFunc()\n",
    "print '=' * 100\n",
    "\n",
    "testFunc(*tempList)\n",
    "print '=' * 100\n",
    "\n",
    "testFunc(tempList)\n",
    "print '=' * 100\n",
    "\n",
    "testFunc(*tempTuple)\n",
    "print '=' * 100\n",
    "\n",
    "testFunc(tempTuple)\n",
    "print '=' * 100\n",
    "\n",
    "testFunc(*tempDict)\n",
    "print '=' * 100\n",
    "\n",
    "testFunc(tempDict)\n",
    "print '=' * 100\n",
    "\n",
    "testFunc(0, *tempList)\n",
    "print '=' * 100\n",
    "\n",
    "testFunc(tempName=\"byte\", **tempDict)\n",
    "print '=' * 100\n",
    "\n",
    "testFunc(*tempList, **tempDict)\n",
    "print '=' * 100"
   ]
  },
  {
   "cell_type": "markdown",
   "metadata": {},
   "source": [
    "## Q: 谈一谈Python的装饰器（decorator）\n",
    "<br/>**A**:  装饰器本质上是一个Python函数，它可以让其它函数在不作任何变动的情况下增加额外功能，装饰器的返回值也是一个函数对象。它经常用于有切面需求的场景。比如：插入日志、性能测试、事务处理、缓存、权限校验等。有了装饰器我们就可以抽离出大量的与函数功能无关的雷同代码进行重用\n",
    "\n",
    "[Link1](https://www.liaoxuefeng.com/wiki/0014316089557264a6b348958f449949df42a6d3a2e542c000/0014318435599930270c0381a3b44db991cd6d858064ac0000)"
   ]
  },
  {
   "cell_type": "code",
   "execution_count": null,
   "metadata": {
    "code_folding": [
     0
    ]
   },
   "outputs": [],
   "source": [
    "#-*- coding:utf-8 -*-\n",
    "\n",
    "import time\n",
    "import datetime\n",
    "import functools\n",
    "\n",
    "def costTime(func):\n",
    "    @functools.wraps(func)\n",
    "    def wrapper(*args, **kwargs):\n",
    "        starttime = time.time()\n",
    "        print '%s startTime: %s' % (func.__name__, starttime)\n",
    "        result = func(*args, **kwargs)\n",
    "\n",
    "        endtime = time.time()\n",
    "        print '%s endTime: %s' % (func.__name__, endtime)\n",
    "        print 'Total cost: %s' % (endtime - starttime)\n",
    "        return result\n",
    "    return wrapper\n",
    "\n",
    "\n",
    "def execute(cmd):\n",
    "    def decorate(func):\n",
    "        @functools.wraps(func)\n",
    "        def wrapper(*args, **kwargs):\n",
    "            print 'Call %s at:' % func.__name__, cmd()\n",
    "            return func(*args, **kwargs)\n",
    "        return wrapper\n",
    "    return decorate\n",
    "\n",
    "\n",
    "@costTime\n",
    "def f1():\n",
    "    print '2006-11-10'\n",
    "\n",
    "@execute(datetime.datetime.now)\n",
    "def f2():\n",
    "    print '2007-11-10'\n",
    "\n",
    "def f3():\n",
    "    print '2008-11-10'\n",
    "\n",
    "\n",
    "if __name__ == '__main__':\n",
    "    f1()\n",
    "    f2()\n",
    "\n",
    "    f3 = execute(datetime.datetime.now)(f3)\n",
    "    f3()\n",
    "    print f3.__name__"
   ]
  },
  {
   "cell_type": "markdown",
   "metadata": {},
   "source": [
    "## Q: 简要描述Python的垃圾回收机制（garbage collection）\n",
    "<br/>**A**:  Python中的垃圾回收是以`引用计数`为主，`标记-清除`和`分代收集`为辅\n",
    "* 引用计数：Python在内存中存储每个对象的引用计数，如果计数变成0，该对象就会消失，分配给该对象的内存就会释放出来\n",
    "* 标记-清除：一些容器对象，比如list、dict、tuple，instance等可能会出现引用循环，对于这些循环，垃圾回收器会定时回收这些循环（对象之间通过引用（指针）连在一起，构成一个有向图，对象构成这个有向图的节点，而引用关系构成这个有向图的边）\n",
    "* 分代收集：Python把内存根据对象存活时间划分为三代，对象创建之后，垃圾回收器会分配它们所属的代。每个对象都会被分配一个代，而被分配更年轻的代是被优先处理的，因此越晚创建的对象越容易被回收\n",
    "\n",
    "[Link1](https://www.cnblogs.com/pinganzi/p/6646742.html)"
   ]
  },
  {
   "cell_type": "markdown",
   "metadata": {},
   "source": [
    "## Python多线程(multi-threading)，这是个好主意吗？\n",
    "\n",
    "<br/>**A**: Python并不支持真正意义上的多线程，Python提供了多线程包。Python中有一个叫Global Interpreter Lock（GIL）的东西，它能确保你的代码中永远只有一个线程在执行。经过GIL的处理，会增加执行的开销。这就意味着如果你先要提高代码执行效率，使用threading不是一个明智的选择，当然如果你的代码是IO密集型，多线程可以明显提高效率，相反如果你的代码是CPU密集型的这种情况下多线程大部分是鸡肋。\n",
    "\n",
    "<br/>*补充*：GIL 的全称为 Global Interpreter Lock ，意即全局解释器锁。在 Python 语言的主流实现 CPython 中，GIL 是一个货真价实的全局线程锁，在解释器解释执行任何 Python 代码时，都需要先获得这把锁才行，在遇到 I/O 操作时会释放这把锁。如果是纯计算的程序，没有 I/O 操作，解释器会每隔 100 次操作就释放这把锁，让别的线程有机会执行（这个次数可以通过sys.setcheckinterval 来调整）。所以虽然 CPython 的线程库直接封装操作系统的原生线程，但 CPython 进程做为一个整体，同一时间只会有一个获得了 GIL 的线程在跑，其它的线程都处于等待状态等着 GIL 的释放。这也就能解释：在有两个死循环的线程，而且有两个物理 CPU 内核条件下，因为 GIL 的限制，两个线程只是做着分时切换，总的 CPU 占用率还略低于 50％。\n",
    "\n",
    "[Link1](https://blog.csdn.net/q_l_s/article/details/51538039)\n",
    "[Link2](https://blog.csdn.net/luckytanggu/article/details/52183990)\n",
    "[Link3](https://www.cnblogs.com/lidagen/p/7237674.html)"
   ]
  },
  {
   "cell_type": "markdown",
   "metadata": {},
   "source": [
    "## 什么是lambda表达式？它有什么好处？\n",
    "\n",
    "<br/>**A**:  lambda函数有如下特性：\n",
    "* lambda函数是匿名的：所谓匿名函数，通俗地说就是没有名字的函数。lambda函数没有名字\n",
    "* lambda函数有输入和输出：输入是传入到参数列表argument_list的值，输出是根据表达式expression计算得到的值\n",
    "* lambda函数一般功能简单：`单行expression`决定了lambda函数不可能完成复杂的逻辑，只能完成非常简单的功能。由于其实现的功能一目了然，甚至不需要专门的名字来说明\n",
    "\n",
    "<br/>**lambda表达式的优劣**:  使用`lambda`编写的代码更紧凑，更\"pythonic\"；但是，lambda函数能够支持的功能十分有限，其不支持多分支程序if...elif...else...和异常处理程序try ...except...。并且，lambda函数的功能被隐藏，对于编写代码之外的人员来说，理解lambda代码需要耗费一定的理解成本\n",
    "\n",
    "[Link1](https://blog.csdn.net/zjuxsl/article/details/79437563)"
   ]
  },
  {
   "cell_type": "code",
   "execution_count": null,
   "metadata": {
    "code_folding": [
     0
    ]
   },
   "outputs": [],
   "source": [
    "#-*- coding:utf-8 -*-\n",
    "\n",
    "# 用lambda表达式求n的阶乘\n",
    "n = 5\n",
    "print reduce(lambda x, y:x*y, range(1, n+1))\n",
    "\n",
    "\n",
    "# lambda表达式用在def函数中\n",
    "def action(x):\n",
    "    return lambda y: x+y\n",
    "\n",
    "act = action(2)\n",
    "print act(22)\n",
    "\n",
    "\n",
    "# 把def直接写成lambda形式\n",
    "b = lambda x:lambda y:x+y\n",
    "a = b(3)\n",
    "print a(2)\n",
    "print (b(2))(2)"
   ]
  },
  {
   "cell_type": "markdown",
   "metadata": {},
   "source": [
    "## Python里面如何拷贝一个对象？\n",
    "\n",
    "<br/>**A**: Python中对象之间的赋值是按引用传递的，如果要拷贝对象需要使用标准模板中的copy\n",
    "* copy.copy：浅拷贝，只拷贝父对象，不拷贝父对象的子对象\n",
    "* copy.deepcopｙ：深拷贝，拷贝父对象和子对象\n",
    "\n",
    "[Link1](https://www.cnblogs.com/bhlsheji/p/5352330.html)\n",
    "[Link2](https://www.cnblogs.com/shenbuer/p/7977323.html)"
   ]
  },
  {
   "cell_type": "code",
   "execution_count": null,
   "metadata": {
    "code_folding": [
     0
    ]
   },
   "outputs": [],
   "source": [
    "#-*- coding:utf-8 -*-\n",
    "\n",
    "# values = [0, 1, 2]\n",
    "# values[1] = values\n",
    "# print values\n",
    "\n",
    "\n",
    "import copy\n",
    "\n",
    "a = [1, 2, 3, 4, ['a', 'b']]\n",
    "b = a[:]\n",
    "c = a\n",
    "d = copy.copy(a)\n",
    "e = copy.deepcopy(a)\n",
    "\n",
    "a.append(5)\n",
    "a[4].append('c')\n",
    "\n",
    "print 'a = ', a\n",
    "print 'b = ', b\n",
    "print 'c = ', c\n",
    "print 'd = ', d\n",
    "print 'e = ', e\n",
    "\n",
    "\n",
    "\n",
    "def ggg():\n",
    "    l = [1, 2, 3]\n",
    "    print 'local var ', l\n",
    "    return l\n",
    "\n",
    "def fff(l):\n",
    "    l.append(100)\n",
    "    l[2].append('c')\n",
    "    print 'global var ', l\n",
    "    return l\n",
    "\n",
    "a = ggg()\n",
    "print 'a = ', a\n",
    "a.append(10)\n",
    "print 'a = ', a\n",
    "ggg()\n",
    "\n",
    "print '\\n\\n'\n",
    "\n",
    "a = [1, 2, ['a', 'b'], 3]\n",
    "b = fff(a)\n",
    "print a\n",
    "b.append(1000)\n",
    "print b\n",
    "print a"
   ]
  },
  {
   "cell_type": "markdown",
   "metadata": {},
   "source": [
    "## Python中单下划线和双下划线分别是什么?\n",
    "\n",
    "<br/>**A**:  python中没有像C++、Java那样严格的成员域限制，__双下划线开头成员标识是类私有成员，但是实际上是伪私有，可以通过其他途径直接访问\n",
    "* \\_单下划线开头：弱“内部使用”标识，如：`from M import *`，将不导入所有以下划线开头的对象，包括包，模块、成员\n",
    "* 单下划线结尾\\_\\_：只是为了避免与python关键字的命名冲突\n",
    "* \\_\\_双下划线开头：模块内的成员，表示私有成员，外部无法直接调用\n",
    "* \\_\\_双下划线开头双下划线结尾\\_\\_：指那些python类中的特殊函数或属性，如`__name__，__doc__，__init__，__import__，__file__，__setattr__，__getattr__，__dict__`等，自己写变量和函数、方法名不推荐这样的方式\n",
    "\n",
    "<br/>**变量**:\n",
    "1.  前带_的变量:  标明是一个私有变量, 只用于标明, 外部类还是可以访问到这个变量\n",
    "2.  前带两个_ , 后带两个_ 的变量:  标明是内置变量,\n",
    "\n",
    "<br/>**函数**:\n",
    "1.  前带_的变量: 标明是一个私有函数, 只用于标明,\n",
    "2. 前带两个_ , 后带两个_ 的函数:  标明是特殊函数\n",
    "\n",
    "[Link1](https://www.cnblogs.com/skying555/p/6169110.html)"
   ]
  },
  {
   "cell_type": "markdown",
   "metadata": {},
   "source": [
    "## 如何实现上下文管理器?\n",
    "\n",
    "<br/>**A**:  只要实现了 `__init__ , __enter__, __exit__` 这三个方法就可以说实现了上下文管理器\n",
    "* 简化了代码 \n",
    "* 程序退出时自动关闭 \n",
    "* 操作时出现异常也会自动关闭\n",
    "\n",
    "[Link1](http://www.cnblogs.com/Security-Darren/p/4196634.html)\n",
    "\n",
    "\n",
    "<br/><br/>**补充**:    \n",
    "  contextlib.closing(thing):  返回一个上下文管理器，在完成代码块的执行时关闭参数 thing\n",
    "```python\n",
    "\"\"\"\n",
    "class closing(object):\n",
    "    def __init__(self, thing):\n",
    "        self.thing = thing\n",
    "    def __enter__(self):\n",
    "        return self.thing\n",
    "    def __exit__(self, *exc_info):\n",
    "        self.thing.close()\n",
    "\"\"\"\n",
    "\n",
    "import urllib\n",
    "from contextlib import closing\n",
    "\n",
    "with closing(urllib.urlopen('http://www.baidu.com')) as page:\n",
    "    for line in page:\n",
    "        print line\n",
    "```"
   ]
  },
  {
   "cell_type": "code",
   "execution_count": null,
   "metadata": {
    "code_folding": []
   },
   "outputs": [],
   "source": [
    "#-*- coding:utf-8 -*-\n",
    "\n",
    "class MyOpen(object):\n",
    "\n",
    "    def __init__(self, filename, mode):\n",
    "        f = open(filename, mode)\n",
    "        self.f = f\n",
    "\n",
    "    def __enter__(self):    # 返回 as 后面的值\n",
    "        return self.f\n",
    "\n",
    "    def __exit__(self, *args):   # 退出时关闭\n",
    "        self.f.close()\n",
    "\n",
    "\n",
    "with MyOpen(__file__, 'r') as f:\n",
    "    print f.read()"
   ]
  },
  {
   "cell_type": "markdown",
   "metadata": {},
   "source": [
    "## @property装饰器的作用？\n",
    "\n",
    "<br/>**A**:  把class的方法变成属性，然后就可以像访问属性一样来调用类里面的方法\n",
    "* 把一个`__getter__`方法变成属性，只需要加上`@property`就可以\n",
    "* 把一个`__setter__`方法变成属性赋值，需要另外的修饰器`@属性名.setter`\n"
   ]
  },
  {
   "cell_type": "code",
   "execution_count": null,
   "metadata": {
    "code_folding": [
     0
    ]
   },
   "outputs": [],
   "source": [
    "#-*- coding:utf-8 -*-\n",
    "\n",
    "class Student(object):\n",
    "\n",
    "    def __init__(self, name, score):\n",
    "        self.__name = name\n",
    "        self.__score = score\n",
    "\n",
    "    @property\n",
    "    def score(self):\n",
    "        return self.__score\n",
    "\n",
    "    @score.setter\n",
    "    def score(self, value):\n",
    "        if not isinstance(value, int):\n",
    "            raise ValueError(\"invalid score!!!\")\n",
    "        elif value < 0 or value > 100:\n",
    "            raise ValueError(\"score must be between [0,100]!!!\")\n",
    "        else:\n",
    "            self.__score = value\n",
    "\n",
    "    @property\n",
    "    def name(self):\n",
    "        return self.__name\n",
    "\n",
    "\n",
    "if __name__ == '__main__':\n",
    "\n",
    "    s = Student('lisi', 90)\n",
    "    print s.name\n",
    "    print s.score\n",
    "\n",
    "    s.score = 50\n",
    "    print s.score"
   ]
  },
  {
   "cell_type": "markdown",
   "metadata": {},
   "source": [
    "## 通过一行代码实现列表的首字母大写"
   ]
  },
  {
   "cell_type": "code",
   "execution_count": null,
   "metadata": {
    "code_folding": [
     0
    ]
   },
   "outputs": [],
   "source": [
    "#-*- coding:utf-8 -*-\n",
    "\n",
    "'''\n",
    "map():  接收两个参数，一个是函数，一个是序列，\n",
    "            map将传入的函数依次作用到序列的每个元素，并把结果作为新的list返回。\n",
    "'''\n",
    "\n",
    "print map(lambda s:s[0:1].upper()+s[1:].lower(), ['admin', 'LIST', 'barT'])\n"
   ]
  },
  {
   "cell_type": "markdown",
   "metadata": {},
   "source": [
    "## 通过一行代码实现[1, 3, 5, 7, 9] 到 13579 的转换"
   ]
  },
  {
   "cell_type": "code",
   "execution_count": null,
   "metadata": {
    "code_folding": [
     0
    ]
   },
   "outputs": [],
   "source": [
    "#-*- coding:utf-8 -*-\n",
    "\n",
    "'''\n",
    "reduce(): 把一个函数作用在一个序列上，这个函数必须接收两个参数，\n",
    "            reduce把结果继续和序列的下一个元素做累积计算\n",
    "            \n",
    "reduce(f, [x1, x2, x3, x4]) = f(f(f(x1, x2), x3), x4)            \n",
    "'''\n",
    "\n",
    "print reduce(lambda x, y:x*10 +y, [1, 3, 5, 7, 9])"
   ]
  },
  {
   "cell_type": "markdown",
   "metadata": {},
   "source": [
    "## 通过一行代码过滤掉一个序列中的空字符串"
   ]
  },
  {
   "cell_type": "code",
   "execution_count": null,
   "metadata": {
    "code_folding": [
     0
    ]
   },
   "outputs": [],
   "source": [
    "#-*- coding:utf-8 -*-\n",
    "\n",
    "'''\n",
    "filter():  接收一个函数和一个序列；把传入的函数依次作用于每个元素，\n",
    "            然后根据返回值是True还是False决定保留还是丢弃该元素。\n",
    "'''\n",
    "\n",
    "print filter(lambda s:s and s.strip(), ['A', '', 'B', None, 'C', '  '])"
   ]
  },
  {
   "cell_type": "markdown",
   "metadata": {},
   "source": [
    "## \\_\\_future\\_\\_ 的作用\n",
    "\n",
    "<br/>**A**:  Python提供`__future__`模块，其目的是把下一个新版本的特性导入到当前版本，于是我们就可以在当前版本中测试一些新版本的特性\n",
    "\n",
    "<br/>**例如**\n",
    "* 为了适应Python 3.x的新的字符串的表示方法，在2.7版本的代码中，可以通过unicode_literals来使用Python 3.x的新的语法\n",
    "```python\n",
    "from __future__ import unicode_literals\n",
    "```\n",
    "* 在Python 2.x中，对于除法有两种情况，如果是整数相除，结果仍是整数，余数会被扔掉，这种除法叫“地板除”，要做精确除法，必须把其中一个数变成浮点数；而在Python 3.x中，所有的除法都是精确除法，地板除用//表示；如果想在Python 2.7的代码中直接使用Python 3.x的除法，可以通过 `__future__` 模块的division实现\n",
    "```python\n",
    "from __future__ import division\n",
    "```"
   ]
  },
  {
   "cell_type": "markdown",
   "metadata": {},
   "source": [
    "## 统计任意字符串中每个字符出现的个数"
   ]
  },
  {
   "cell_type": "code",
   "execution_count": null,
   "metadata": {
    "code_folding": [
     0
    ]
   },
   "outputs": [],
   "source": [
    ":utf-8 -*-\n",
    "\n",
    "from collections import Counter\n",
    "\n",
    "c = Counter()\n",
    "for ch in 'programming':\n",
    "    c[ch] = c[ch] + 1\n",
    "\n",
    "print c\n",
    "print c['g']"
   ]
  },
  {
   "cell_type": "markdown",
   "metadata": {},
   "source": [
    "## 实现一个FIFO的dict，当容量超出限制时，删除最早添加的key"
   ]
  },
  {
   "cell_type": "code",
   "execution_count": null,
   "metadata": {
    "code_folding": [
     0
    ]
   },
   "outputs": [],
   "source": [
    "#-*- coding:utf-8 -*-\n",
    "\n",
    "from collections import OrderedDict\n",
    "\n",
    "class LastUpdatedOrderedDict(OrderedDict):\n",
    "\n",
    "    def __init__(self, capacity):\n",
    "        super(LastUpdatedOrderedDict, self).__init__()\n",
    "        self._capacity = capacity\n",
    "\n",
    "    def __setitem__(self, key, value):\n",
    "        containsKey = 1 if key in self else 0\n",
    "        if len(self) - containsKey >= self._capacity:\n",
    "            last = self.popitem(last=False)\n",
    "            print 'remove: ', last\n",
    "\n",
    "        if containsKey:\n",
    "            print 'set: ', (key, value)\n",
    "        else:\n",
    "            print 'add: ', (key, value)\n",
    "        OrderedDict.__setitem__(self, key, value)\n",
    "\n",
    "fifoDict = LastUpdatedOrderedDict(5)\n",
    "fifoDict['key1'] = 'value1'\n",
    "fifoDict['key1'] = 'value1-1'\n",
    "fifoDict['key3'] = 'value3'\n",
    "fifoDict['key2'] = 'value2'\n",
    "\n",
    "print fifoDict"
   ]
  },
  {
   "cell_type": "markdown",
   "metadata": {},
   "source": [
    "## 1 ~ 9 可以组成多少个数字 (数字长度不大于5)？"
   ]
  },
  {
   "cell_type": "code",
   "execution_count": null,
   "metadata": {
    "code_folding": [
     0
    ]
   },
   "outputs": [],
   "source": [
    "#-*- coding:utf-8 -*-\n",
    "import itertools\n",
    "\n",
    "'''\n",
    "    itertools.product(*iterables[, repeat])   # 笛卡尔积，相当于一个嵌套的for循环\n",
    "    \n",
    "    def product(*args, **kwds):\n",
    "    \n",
    "        # product('ABCD', 'xy') --> Ax Ay Bx By Cx Cy Dx Dy\n",
    "        # product(range(2), repeat=3) --> 000 001 010 011 100 101 110 111\n",
    "        \n",
    "        pools = map(tuple, args) * kwds.get('repeat', 1)\n",
    "        result = [[]]\n",
    "        for pool in pools:\n",
    "            result = [x+[y] for x in result for y in pool]\n",
    "        for prod in result:\n",
    "            yield tuple(prod)    \n",
    "            \n",
    "    # 双层推导        \n",
    "    print [x+[y] for x in [['a'],['b'], ['c']] for y in ['A', 'B', 'C']]            \n",
    "'''\n",
    "\n",
    "print len([int(''.join(i)) for i in itertools.product('123456789', repeat=5)])\n"
   ]
  },
  {
   "cell_type": "markdown",
   "metadata": {},
   "source": [
    "## 1 ~ 9 可以组合多个数字 (数字长度等于5)？"
   ]
  },
  {
   "cell_type": "code",
   "execution_count": null,
   "metadata": {
    "code_folding": [
     0
    ]
   },
   "outputs": [],
   "source": [
    "#-*- coding:utf-8 -*-\n",
    "import itertools\n",
    "\n",
    "'''\n",
    "    itertools.permutations(iterable[, r])   # 返回迭代中元素的连续长度排列\n",
    "    \n",
    "    def permutations(iterable, r=None):\n",
    "        pool = tuple(iterable)\n",
    "        n = len(pool)\n",
    "        r = n if r is None else r\n",
    "        for indices in product(range(n), repeat=r):\n",
    "            if len(set(indices)) == r:\n",
    "                yield tuple(pool[i] for i in indices)   \n",
    "'''\n",
    "\n",
    "print len([int(''.join(i)) for i in itertools.permutations(['1', '2', '3', '4', '5'], 5)])\n"
   ]
  },
  {
   "cell_type": "markdown",
   "metadata": {},
   "source": [
    "## 使用 yield 生成斐波那契數列\n",
    "\n",
    "<br/>`yield` 的功能类似于 return，但是不同之处在于它返回的是`生成器`  \n",
    "\n",
    "<br/>**生成器**\n",
    "* 生成器是通过一个或多个`yield`表达式构成的函数，每一个生成器都是一个迭代器（但是迭代器不一定是生成器）\n",
    "* 如果一个函数包含`yield`关键字，这个函数就会变为一个生成器\n",
    "* 生成器并不会一次返回所有结果，而是每次遇到`yield`关键字后返回相应结果，并保留函数当前的运行状态，等待下一次的调用\n",
    "* 由于生成器也是一个迭代器，那么它就应该支持`next`方法来获取下一个值\n",
    "\n",
    "\n",
    "[Link1](https://www.cnblogs.com/jxhd1/p/7773988.html)"
   ]
  },
  {
   "cell_type": "code",
   "execution_count": null,
   "metadata": {
    "code_folding": [
     0
    ]
   },
   "outputs": [],
   "source": [
    "#-*- coding:utf-8 -*-\n",
    "\n",
    "def fab(max):\n",
    "\n",
    "    n, a, b = 0, 0, 1\n",
    "    while n < max:\n",
    "        yield b\n",
    "        a, b = b, a + b\n",
    "        n += 1\n",
    "\n",
    "for n in fab(5):\n",
    "    print n"
   ]
  },
  {
   "cell_type": "markdown",
   "metadata": {},
   "source": [
    "## 如何理解 iterator (迭代器)  \n",
    "\n",
    "* 迭代器不需要事先准备好整个迭代过程中的所有元素，仅仅在迭代到某个元素时才计算该元素，而在这之前或之后，元素可以不存在或销毁。适合用于遍历一个巨大的或无限的集合\n",
    "* 迭代器对象从集合的第一个元素开始访问，直到所有元素被访问完结束，迭代器只能往前不能后退\n",
    "* 对象必须提供一个`next()`方法，执行该方法时，要么返回迭代中的下一项，要么引起一个`StopIteration`异常\n",
    "* 在Python中，支持迭代器协议就是实现对象的 `__iter__()` 和 `next()` 方法\n",
    "    * `__iter__()` 方法: 返回迭代器对象本身\n",
    "    * `next()` 方法: 返回容器中的下一个元素，在结尾时引发StopIteration异常终止迭代器 （在Python3.x 中为 `__next__`）\n",
    "    \n",
    "    \n",
    " <br/><br/>**补充**：\n",
    " 可迭代对象（iterable）\n",
    " * 实现了迭代器协议的对象，就是可迭代对象\n",
    " * 如何实现迭代器协议：对象内部定义了一个`__iter__`()方法\n",
    " * 在Python中，list、tuple、dict、set 以及生成器对象都是可迭代对象。可以使用内置函数`iter()`测试\n",
    " * 所有的`iterable`均可以通过内置函数`iter()`转化为`iterator`\n",
    " \n",
    "```python\n",
    "import collections\n",
    "isinstance([], collections.Iterable)      # True\n",
    "isinstance('', collections.Iterable)      # True\n",
    "\n",
    "w = iter([1, 2, 3, 4, 5])\n",
    "print w.next()      # 1\n",
    "```"
   ]
  },
  {
   "cell_type": "code",
   "execution_count": null,
   "metadata": {
    "code_folding": [
     0
    ]
   },
   "outputs": [],
   "source": [
    "#-*- coding:utf-8 -*-\n",
    "\n",
    "class FabClass(object):\n",
    "\n",
    "    def __init__(self, max):\n",
    "        self.max = max\n",
    "        self.n, self.a, self.b = 0, 0, 1\n",
    "\n",
    "    def __iter__(self):\n",
    "        return self\n",
    "\n",
    "    def next(self):\n",
    "        if self.n < self.max:\n",
    "            r = self.b\n",
    "            self.a, self.b = self.b, self.a + self.b\n",
    "            self.n = self.n + 1\n",
    "            return r\n",
    "        raise StopIteration()\n",
    "\n",
    "\n",
    "for n in FabClass(5):\n",
    "    print n\n",
    "    \n",
    "    \n",
    "import collections\n",
    "print isinstance(FabClass(5), collections.Iterable)    "
   ]
  },
  {
   "cell_type": "markdown",
   "metadata": {},
   "source": [
    "## python类的\\_\\_slots\\_\\_属性\n",
    "\n",
    "* 当一个类的对象不含有`__slots__`的类可以随时给类添加属性或方法\n",
    "* 当一个类的对象有`__slots__`属性时候且`__slots__`的元素不包含`__dict__`时候,只能声明与`__slots__`中的元素同名的属性或方法\n",
    "* 当一个类的对象有`__slots__`属性且`__slots__`的元素中包含`__dict__`时候，能给类添加任意名字的属性或方法\n",
    "> 因为Python是动态语言，所以任何实例在运行期都可以动态地添加属性或方法"
   ]
  },
  {
   "cell_type": "code",
   "execution_count": null,
   "metadata": {
    "code_folding": [
     0
    ]
   },
   "outputs": [],
   "source": [
    "#-*- coding:utf-8 -*-\n",
    "\n",
    "class A(object):\n",
    "    name = 'A'\n",
    "\n",
    "class B(object):\n",
    "    name = 'B'\n",
    "    __slots__ = ['a', 'b']\n",
    "\n",
    "class C(object):\n",
    "    name = 'C'\n",
    "    __slots__ = ['a', 'b', '__dict__']\n",
    "\n",
    "\n",
    "def testObj(myobj):\n",
    "    try:\n",
    "        myobj.c = 10\n",
    "        print myobj.c\n",
    "    except Exception as e:\n",
    "        print 'error: \"%s\";' % myobj.name, str(e)\n",
    "\n",
    "\n",
    "if __name__ == '__main__':\n",
    "    testObj(A())\n",
    "    testObj(B())\n",
    "    testObj(C())"
   ]
  },
  {
   "cell_type": "markdown",
   "metadata": {},
   "source": [
    "## python如何通过参数进行缓存？"
   ]
  },
  {
   "cell_type": "code",
   "execution_count": null,
   "metadata": {
    "code_folding": [
     0
    ]
   },
   "outputs": [],
   "source": [
    "#-*- coding:utf-8 -*-\n",
    "\n",
    "def add(a, b, __cache={}):\n",
    "    if(a, b) in __cache:\n",
    "        return __cache[(a, b)]\n",
    "\n",
    "    ret = a + b\n",
    "    __cache[(a, b)] = ret + 1\n",
    "    return ret\n",
    "\n",
    "\n",
    "def main():\n",
    "    print add(1, 2)\n",
    "    print add(3, 4)\n",
    "    print add(1, 2)\n",
    "    print add(3, 4)\n",
    "\n",
    "if __name__ == '__main__':\n",
    "    main()"
   ]
  },
  {
   "cell_type": "markdown",
   "metadata": {},
   "source": [
    "## .pyc 文件的作用？\n",
    "[Link1](https://www.cnblogs.com/xiaolongxia/articles/4039135.html)\n",
    "\n",
    "* Python先把代码（.py文件）编译成字节码，交给字节码虚拟机，然后虚拟机一条一条执行字节码指令，从而完成程序的执行\n",
    "* 字节码在Python虚拟机程序里对应的是PyCodeObject对象；.pyc文件是字节码在磁盘上的表现形式\n",
    "* PyCodeObject对象的创建时机是模块加载的时候，即`import`\n",
    "    * 执行python test.py命令，会对test.py进行编译成字节码并解释执行，但是不会生成test.pyc\n",
    "    * 如果test.py加载了其他模块，如import util，Python会对util.py进行编译成字节码，生成util.pyc，然后对字节码解释执行\n",
    "    * 如果想生成test.pyc，可以使用Python内置模块`py_compile`来编译\n",
    "    * 加载模块时，如果同时存在.py和.pyc，Python会尝试使用.pyc，如果.pyc的编译时间早于.py的修改时间，则重新编译.py并更新.pyc\n",
    "\n",
    "\n"
   ]
  },
  {
   "cell_type": "markdown",
   "metadata": {},
   "source": [
    "## \\_\\_new\\_\\_和\\_\\_init\\_\\_的区别\n",
    "\n",
    "<br/>**A**:  `__init__`为初始化方法，`__new__`方法是真正的构造函数\n",
    "* `__new__`是实例创建之前被调用，它的任务是创建并返回该实例，是静态方法\n",
    "* `__init__`是实例创建之后被调用的，然后设置对象属性的一些初始值"
   ]
  },
  {
   "cell_type": "code",
   "execution_count": null,
   "metadata": {
    "code_folding": [
     0
    ]
   },
   "outputs": [],
   "source": [
    "#-*- coding:utf-8 -*-\n",
    "\n",
    "class TestClass(object):\n",
    "\n",
    "    def __new__(cls, *args, **kwargs):\n",
    "        print '__new__() - {}'.format(cls)\n",
    "        return object.__new__(cls, *args, **kwargs)\n",
    "\n",
    "    def __init__(self, testName):\n",
    "        print '__init__'\n",
    "        self.testName = testName\n",
    "\n",
    "\n",
    "\n",
    "class Singleton(object):\n",
    "\n",
    "    def __new__(cls, *args, **kwargs):\n",
    "        if not hasattr(cls, '_instance'):\n",
    "            cls._instance = super(Singleton, cls).__new__(cls, *args, **kwargs)\n",
    "        return cls._instance\n",
    "\n",
    "\n",
    "class DoubleFloat(float):\n",
    "\n",
    "    def __new__(cls, arg = 0.6):\n",
    "        return float.__new__(cls, arg * 2)\n",
    "\n",
    "\n",
    "if __name__ == '__main__':\n",
    "    print TestClass('Json').testName\n",
    "\n",
    "    a1 = Singleton()\n",
    "    a2 = Singleton()\n",
    "    print id(a1)\n",
    "    print id(a2)\n",
    "\n",
    "    a = DoubleFloat()\n",
    "    print a\n",
    "    b = DoubleFloat(1.9)\n",
    "    print b"
   ]
  },
  {
   "cell_type": "markdown",
   "metadata": {},
   "source": [
    "## python 魔术方法举例\n",
    "\n",
    "<br/>`__del__(self)` 方法：可以理解为\"析构函数\"\n",
    "```python\n",
    "from os.path import join \n",
    "\n",
    "class FileObject: \n",
    "    '''给文件对象进行包装从而确认在删除时文件流关闭'''\n",
    "    def __init__(self, filepath='~', filename='sample.txt'): \n",
    "        #读写模式打开一个文件 \n",
    "        self.file = open(join(filepath, filename), 'r+') \n",
    "    def __del__(self): \n",
    "        self.file.close() \n",
    "        del self.file\n",
    "```\n",
    "\n",
    "`__getattribute__(self, name)` 方法： 获取属性值\n",
    "> 无论调用对象的什么属性，包括不存在的属性，都会首先调用`__ getattribute__`方法；\n",
    "\n",
    "`__getattr__(self, name)`方法： 获取属性值\n",
    "> 只有找不到对象的属性时，才会调用`__ getattr__`方法\n",
    "\n",
    "`__setattr__(self, name, value)`方法：设置属性值 (无论属性是否存在)\n",
    "\n",
    "`__delattr__(self, name)`方法： 删除属性\n",
    "\n"
   ]
  },
  {
   "cell_type": "code",
   "execution_count": null,
   "metadata": {
    "code_folding": [
     0
    ]
   },
   "outputs": [],
   "source": [
    "#-*- coding:utf-8 -*-\n",
    "\n",
    "class Employee(object):\n",
    "\n",
    "    def __init__(self, username, age):\n",
    "        self.username = username\n",
    "        self.age = age\n",
    "\n",
    "    # Employee 会从 Object 类中继承该方法, 故该方法不必显示声明\n",
    "    def __getattribute__(self, item):\n",
    "        return super(Employee, self).__getattribute__(item)\n",
    "\n",
    "    # 通过实现 __getitem__ 回调接口, 使得对象支持\"[]\"运算符\n",
    "    def __getitem__(self, item):\n",
    "        return super(Employee, self).__getattribute__(item)\n",
    "\n",
    "    # 通过实现 __getattr__ 回调接口, 使得访问对象中不存在的属性时也不会报错\n",
    "    def __getattr__(self, item):\n",
    "        return None\n",
    "\n",
    "    # Employee 会从 Object 类中继承该方法, 故该方法不必显示声明\n",
    "    def __delattr__(self, item):\n",
    "        super(Employee, self).__delattr__(item)\n",
    "\n",
    "    # Employee 会从 Object 类中继承该方法, 故该方法不必显示声明\n",
    "    def __setattr__(self, key, value):\n",
    "        super(Employee, self).__setattr__(key, value)\n",
    "\n",
    "\n",
    "if __name__ == '__main__':\n",
    "    em = Employee('wifi', 30)\n",
    "\n",
    "    print em.username                   # wifi\n",
    "    print em['username']                # wifi\n",
    "    print em.company                    # None\n",
    "\n",
    "    print em.__dict__['username']       # wifi\n",
    "    print getattr(em, 'company')        # None\n",
    "\n",
    "    del em.username\n",
    "    print em.username                   # None\n",
    "    delattr(em, 'age')\n",
    "    print em.age                           # None\n",
    "\n",
    "    em.username = 'hifi'\n",
    "    print em.username                   # hifi"
   ]
  },
  {
   "cell_type": "markdown",
   "metadata": {},
   "source": [
    "## Python 中 \\_\\_call\\_\\_() 方法的作用？\n",
    "\n",
    "<br/>Python中的函数是一级对象。这意味着Python中的函数的引用可以作为输入传递到其他的函数/方法中，并在其中被执行。 \n",
    "而Python中类的实例（对象）可以被当做函数对待。也就是说，我们可以将它们作为输入传递到其他的函数/方法中并调用他们，正如我们调用一个正常的函数那样。而类中`__call__()`函数的意义正在于此。为了将一个类实例当做函数调用，我们需要在类中实现`__call__`()方法。也就是我们要在类中实现如下方法：`def __call__(self, *args)`。这个方法接受一定数量的变量作为输入。 \n",
    "假设`x`是`X`类的一个实例。那么调用`x.__call__(1,2)`等同于调用`x(1,2)`。这个实例本身在这里相当于一个函数\n"
   ]
  },
  {
   "cell_type": "code",
   "execution_count": null,
   "metadata": {},
   "outputs": [],
   "source": [
    "#-*- coding:utf-8 -*-\n",
    "\n",
    "class Person(object):\n",
    "\n",
    "    def __init__(self, name, gender):\n",
    "        self.name = name\n",
    "        self.gender = gender\n",
    "\n",
    "    def __call__(self, *args, **kwargs):\n",
    "        print 'This is original name: {}'.format(self.name)\n",
    "        print 'This is newer name: {}'.format(*args)\n",
    "\n",
    "\n",
    "class Fib(object):\n",
    "\n",
    "    def __call__(self, num):\n",
    "        a, b = 0, 1\n",
    "\n",
    "        for i in xrange(num):\n",
    "            yield a\n",
    "            a, b = b, a+b\n",
    "\n",
    "\n",
    "if __name__ == '__main__':\n",
    "\n",
    "    p = Person('Bob', 'male')\n",
    "    p('Tim')\n",
    "    '''\n",
    "        This is original name: Bob\n",
    "        This is newer name: Tim\n",
    "    '''\n",
    "\n",
    "    f = Fib()\n",
    "    for i in f(10):\n",
    "        print i,\n",
    "    '''\n",
    "        0 1 1 2 3 5 8 13 21 34\n",
    "    '''"
   ]
  }
 ],
 "metadata": {
  "kernelspec": {
   "display_name": "Python 2",
   "language": "python",
   "name": "python2"
  },
  "language_info": {
   "codemirror_mode": {
    "name": "ipython",
    "version": 2
   },
   "file_extension": ".py",
   "mimetype": "text/x-python",
   "name": "python",
   "nbconvert_exporter": "python",
   "pygments_lexer": "ipython2",
   "version": "2.7.15"
  },
  "toc": {
   "base_numbering": 1,
   "nav_menu": {},
   "number_sections": true,
   "sideBar": true,
   "skip_h1_title": false,
   "title_cell": "Table of Contents",
   "title_sidebar": "Contents",
   "toc_cell": true,
   "toc_position": {
    "height": "calc(100% - 180px)",
    "left": "10px",
    "top": "150px",
    "width": "272.796875px"
   },
   "toc_section_display": true,
   "toc_window_display": true
  }
 },
 "nbformat": 4,
 "nbformat_minor": 2
}
