{
 "cells": [
  {
   "cell_type": "markdown",
   "metadata": {
    "toc": true
   },
   "source": [
    "<h1>Table of Contents<span class=\"tocSkip\"></span></h1>\n",
    "<div class=\"toc\"><ul class=\"toc-item\"><li><span><a href=\"#tf.get_collection()\" data-toc-modified-id=\"tf.get_collection()-1\"><span class=\"toc-item-num\">1&nbsp;&nbsp;</span>tf.get_collection()</a></span></li><li><span><a href=\"#tf.add_n([])\" data-toc-modified-id=\"tf.add_n([])-2\"><span class=\"toc-item-num\">2&nbsp;&nbsp;</span>tf.add_n([])</a></span></li><li><span><a href=\"#tf.cast(x,-dtype)\" data-toc-modified-id=\"tf.cast(x,-dtype)-3\"><span class=\"toc-item-num\">3&nbsp;&nbsp;</span>tf.cast(x, dtype)</a></span></li><li><span><a href=\"#tf.argmax(x,-axis)\" data-toc-modified-id=\"tf.argmax(x,-axis)-4\"><span class=\"toc-item-num\">4&nbsp;&nbsp;</span>tf.argmax(x, axis)</a></span></li><li><span><a href=\"#with-tf.Graph().as_default()-as-g:\" data-toc-modified-id=\"with-tf.Graph().as_default()-as-g:-5\"><span class=\"toc-item-num\">5&nbsp;&nbsp;</span>with tf.Graph().as_default() as g:</a></span></li></ul></div>"
   ]
  },
  {
   "cell_type": "markdown",
   "metadata": {},
   "source": [
    "## tf.get_collection()\n",
    "> 从集合中取出全部变量，生成一个列表"
   ]
  },
  {
   "cell_type": "markdown",
   "metadata": {},
   "source": [
    "## tf.add_n([])\n",
    "> 列表内对应元素相加"
   ]
  },
  {
   "cell_type": "markdown",
   "metadata": {},
   "source": [
    "## tf.cast(x, dtype)\n",
    "> 把张量`x`转化为dtype类型"
   ]
  },
  {
   "cell_type": "markdown",
   "metadata": {},
   "source": [
    "## tf.argmax(x, axis)\n",
    "> 返回最大值所在索引号；例如: tf.argmax([1, 0, 0]) 返回 0"
   ]
  },
  {
   "cell_type": "markdown",
   "metadata": {},
   "source": [
    "## with tf.Graph().as_default() as g:\n",
    "> 其内定义的节点在计算图`g`中"
   ]
  }
 ],
 "metadata": {
  "kernelspec": {
   "display_name": "Python 2",
   "language": "python",
   "name": "python2"
  },
  "language_info": {
   "codemirror_mode": {
    "name": "ipython",
    "version": 2
   },
   "file_extension": ".py",
   "mimetype": "text/x-python",
   "name": "python",
   "nbconvert_exporter": "python",
   "pygments_lexer": "ipython2",
   "version": "2.7.14"
  },
  "toc": {
   "base_numbering": 1,
   "nav_menu": {},
   "number_sections": true,
   "sideBar": true,
   "skip_h1_title": false,
   "title_cell": "Table of Contents",
   "title_sidebar": "Contents",
   "toc_cell": true,
   "toc_position": {},
   "toc_section_display": true,
   "toc_window_display": true
  }
 },
 "nbformat": 4,
 "nbformat_minor": 2
}
