{
 "cells": [
  {
   "cell_type": "markdown",
   "metadata": {
    "toc": true
   },
   "source": [
    "<h1>Table of Contents<span class=\"tocSkip\"></span></h1>\n",
    "<div class=\"toc\"><ul class=\"toc-item\"><li><span><a href=\"#tf.cast(x,-dtype)\" data-toc-modified-id=\"tf.cast(x,-dtype)-1\"><span class=\"toc-item-num\">1&nbsp;&nbsp;</span>tf.cast(x, dtype)</a></span></li><li><span><a href=\"#tf.argmax(x,-axis)\" data-toc-modified-id=\"tf.argmax(x,-axis)-2\"><span class=\"toc-item-num\">2&nbsp;&nbsp;</span>tf.argmax(x, axis)</a></span></li><li><span><a href=\"#with-tf.Graph().as_default()-as-g:\" data-toc-modified-id=\"with-tf.Graph().as_default()-as-g:-3\"><span class=\"toc-item-num\">3&nbsp;&nbsp;</span>with tf.Graph().as_default() as g:</a></span></li><li><span><a href=\"#tf.nn.max_pool()\" data-toc-modified-id=\"tf.nn.max_pool()-4\"><span class=\"toc-item-num\">4&nbsp;&nbsp;</span>tf.nn.max_pool()</a></span></li><li><span><a href=\"#tf.nn.avg_pool()\" data-toc-modified-id=\"tf.nn.avg_pool()-5\"><span class=\"toc-item-num\">5&nbsp;&nbsp;</span>tf.nn.avg_pool()</a></span></li><li><span><a href=\"#tf.nn.dropout\" data-toc-modified-id=\"tf.nn.dropout-6\"><span class=\"toc-item-num\">6&nbsp;&nbsp;</span>tf.nn.dropout</a></span></li><li><span><a href=\"#tf.split()\" data-toc-modified-id=\"tf.split()-7\"><span class=\"toc-item-num\">7&nbsp;&nbsp;</span>tf.split()</a></span></li><li><span><a href=\"#tf.concat(values,-axis,-name=&quot;concat&quot;)\" data-toc-modified-id=\"tf.concat(values,-axis,-name=&quot;concat&quot;)-8\"><span class=\"toc-item-num\">8&nbsp;&nbsp;</span>tf.concat(values, axis, name=\"concat\")</a></span></li><li><span><a href=\"#tf.random_uniform([3,-3,-3],-minval=0,-maxval=10)\" data-toc-modified-id=\"tf.random_uniform([3,-3,-3],-minval=0,-maxval=10)-9\"><span class=\"toc-item-num\">9&nbsp;&nbsp;</span>tf.random_uniform([3, 3, 3], minval=0, maxval=10)</a></span></li><li><span><a href=\"#tf.random_normal([3,-3,-3],-mean=0,-stddev=2.0)\" data-toc-modified-id=\"tf.random_normal([3,-3,-3],-mean=0,-stddev=2.0)-10\"><span class=\"toc-item-num\">10&nbsp;&nbsp;</span>tf.random_normal([3, 3, 3], mean=0, stddev=2.0)</a></span></li><li><span><a href=\"#tf.truncated_normal([3,-3,-3],-mean=5.0,-stddev=1.0)\" data-toc-modified-id=\"tf.truncated_normal([3,-3,-3],-mean=5.0,-stddev=1.0)-11\"><span class=\"toc-item-num\">11&nbsp;&nbsp;</span>tf.truncated_normal([3, 3, 3], mean=5.0, stddev=1.0)</a></span></li><li><span><a href=\"#tf.add(x,-y,-name=None)\" data-toc-modified-id=\"tf.add(x,-y,-name=None)-12\"><span class=\"toc-item-num\">12&nbsp;&nbsp;</span>tf.add(x, y, name=None)</a></span></li><li><span><a href=\"#tf.add_n(inputs,-name=None)\" data-toc-modified-id=\"tf.add_n(inputs,-name=None)-13\"><span class=\"toc-item-num\">13&nbsp;&nbsp;</span>tf.add_n(inputs, name=None)</a></span></li><li><span><a href=\"#tf.nn.bias_add(value,-bias,-data_format=None,-name=None)\" data-toc-modified-id=\"tf.nn.bias_add(value,-bias,-data_format=None,-name=None)-14\"><span class=\"toc-item-num\">14&nbsp;&nbsp;</span>tf.nn.bias_add(value, bias, data_format=None, name=None)</a></span></li><li><span><a href=\"#tf.get_collection()\" data-toc-modified-id=\"tf.get_collection()-15\"><span class=\"toc-item-num\">15&nbsp;&nbsp;</span>tf.get_collection()</a></span></li><li><span><a href=\"#tf.add_to_collection(name,-value)\" data-toc-modified-id=\"tf.add_to_collection(name,-value)-16\"><span class=\"toc-item-num\">16&nbsp;&nbsp;</span>tf.add_to_collection(name, value)</a></span></li></ul></div>"
   ]
  },
  {
   "cell_type": "markdown",
   "metadata": {},
   "source": [
    "## tf.cast(x, dtype)\n",
    "> 把张量`x`转化为dtype类型"
   ]
  },
  {
   "cell_type": "markdown",
   "metadata": {},
   "source": [
    "## tf.argmax(x, axis)\n",
    "> 返回最大值所在索引号；例如: tf.argmax([1, 0, 0]) 返回 0"
   ]
  },
  {
   "cell_type": "markdown",
   "metadata": {},
   "source": [
    "## with tf.Graph().as_default() as g:\n",
    "> 其内定义的节点在计算图`g`中"
   ]
  },
  {
   "cell_type": "markdown",
   "metadata": {},
   "source": [
    "## tf.nn.max_pool()\n",
    "> 最大池化"
   ]
  },
  {
   "cell_type": "markdown",
   "metadata": {},
   "source": [
    "## tf.nn.avg_pool()\n",
    "> 均值池化"
   ]
  },
  {
   "cell_type": "markdown",
   "metadata": {},
   "source": [
    "## tf.nn.dropout\n",
    "> 舍弃操作"
   ]
  },
  {
   "cell_type": "markdown",
   "metadata": {},
   "source": [
    "## tf.split()"
   ]
  },
  {
   "cell_type": "markdown",
   "metadata": {},
   "source": [
    "## tf.concat(values, axis, name=\"concat\")\n",
    "> concat沿着某一维度链接tensor, 需要理解tensor 的维度   \n",
    "> 对于`2D`来说, 0表示行, 1表示列  \n",
    "> 对于`3D`来说, 0表示纵向, 1表示行, 2表示列  \n",
    "\n",
    "```python\n",
    "  t1 = [[1, 2, 3], [4, 5, 6]]\n",
    "  t2 = [[7, 8, 9], [10, 11, 12]]\n",
    "  tf.concat([t1, t2], 0)  # [[1, 2, 3], [4, 5, 6], [7, 8, 9], [10, 11, 12]]\n",
    "  tf.concat([t1, t2], 1)  # [[1, 2, 3, 7, 8, 9], [4, 5, 6, 10, 11, 12]]\n",
    "```"
   ]
  },
  {
   "cell_type": "markdown",
   "metadata": {},
   "source": [
    "## tf.random_uniform([3, 3, 3], minval=0, maxval=10)\n",
    "> 创建一个 3x3x3 的张量, 服从 0~10 的均匀分布"
   ]
  },
  {
   "cell_type": "markdown",
   "metadata": {},
   "source": [
    "## tf.random_normal([3, 3, 3], mean=0, stddev=2.0)\n",
    "> 创建一个 3x3x3 的张量, 从正态分布中输出随机值; 服从 0 均值, 标准差为 2 的正太分布\n",
    "```python\n",
    "shape: 一维的张量，也是输出的张量。\n",
    "mean: 正态分布的均值。\n",
    "stddev: 正态分布的标准差。\n",
    "dtype: 输出的类型。\n",
    "seed: 一个整数，当设置之后，每次生成的随机数都一样。\n",
    "name: 操作的名字。\n",
    "```"
   ]
  },
  {
   "cell_type": "markdown",
   "metadata": {},
   "source": [
    "## tf.truncated_normal([3, 3, 3], mean=5.0, stddev=1.0)\n",
    "> 创建一个 3x3x3 的张量, 生成的值服从具有指定平均值和标准偏差的正态分布，如果生成的值大于平均值2个标准偏差的值则丢弃重新选择\n",
    "```python\n",
    "shape: 一维的张量，也是输出的张量。\n",
    "mean: 正态分布的均值。\n",
    "stddev: 正态分布的标准差。\n",
    "dtype: 输出的类型。\n",
    "seed: 一个整数，当设置之后，每次生成的随机数都一样。\n",
    "name: 操作的名字。\n",
    "```"
   ]
  },
  {
   "cell_type": "markdown",
   "metadata": {},
   "source": [
    "## tf.add(x, y, name=None)\n",
    "> 作用: 一个叫x的矩阵和一个叫y的数相加，就是y分别与x的每个数相加，得到的结果和x大小相同。\n",
    "\n",
    "```python\n",
    "import tensorflow as tf\n",
    "\n",
    "x1 = tf.constant([1])\n",
    "y1 = tf.constant([1, 2])\n",
    "z1 = tf.add(x1, y1)\n",
    "\n",
    "x2 = tf.constant([1, 2])\n",
    "y2 = tf.constant([[1], [2]])\n",
    "z2 = tf.add(x2, y2)\n",
    "\n",
    "with tf.Session() as sess:\n",
    "    print sess.run(z1)\n",
    "    print sess.run(z2)\n",
    "\n",
    "* output [z1]\n",
    "    [2 3]\n",
    "* output [z2]\n",
    "    [[2 3]\n",
    "     [3 4]]\n",
    "```"
   ]
  },
  {
   "cell_type": "markdown",
   "metadata": {},
   "source": [
    "## tf.add_n(inputs, name=None)\n",
    "> 作用: 实现一个列表的元素的相加。就是输入的对象是一个列表，列表里的元素可以是向量，矩阵等但没有广播功能  \n",
    "> 注意: 使用`tf.add_n`对列表元素进行相加时，列表内元素类型必须一致，否则会报错\n",
    "\n",
    "```python\n",
    "import tensorflow as tf \n",
    "    \n",
    "input1 = tf.constant([1.0, 2.0, 3.0])    \n",
    "input2 = tf.Variable(tf.random_uniform([3]))    \n",
    "output = tf.add_n([input1, input2])    #注意输入是一个列表   \n",
    "    \n",
    "with tf.Session() as sess:    \n",
    "    sess.run(tf.initialize_all_variables())     \n",
    "    print (sess.run(output))  \n",
    "\n",
    "* output\n",
    "[1.4135424 2.694611  3.2243743]\n",
    "```"
   ]
  },
  {
   "cell_type": "markdown",
   "metadata": {},
   "source": [
    "## tf.nn.bias_add(value, bias, data_format=None, name=None)\n",
    "> 作用: 将偏置项bias加到value上 (通俗地讲: 一个叫`bias`的向量加到一个叫`value`的矩阵上，是向量与矩阵的每一行进行相加，得到的结果和`value`矩阵大小相同)   \n",
    "> 注意: 该方法可看做是`tf.add`的一个特例, 其中`bias`必须是一维的; 该API支持广播形式, 因此`value`可以有任何维度 (bias的维度和value的最后一维必须相同)\n",
    "\n",
    "```python\n",
    "import tensorflow as tf\n",
    " \n",
    "a=tf.constant([[1,1],[2,2],[3,3]],dtype=tf.float32)\n",
    "b=tf.constant([1,-1],dtype=tf.float32)\n",
    "c=tf.constant([1],dtype=tf.float32)\n",
    " \n",
    "with tf.Session() as sess:\n",
    "    print(sess.run(tf.nn.bias_add(a, b)))\n",
    "    #执行下面语句错误\n",
    "    #print(sess.run(tf.nn.bias_add(a, c)))\n",
    "    \n",
    "* output:\n",
    "    [[ 2. 0.]\n",
    "    [ 3. 1.]\n",
    "    [ 4. 2.]]\n",
    "```"
   ]
  },
  {
   "cell_type": "markdown",
   "metadata": {},
   "source": [
    "## tf.get_collection()\n",
    "> 从集合中取出全部变量，生成一个列表"
   ]
  },
  {
   "cell_type": "markdown",
   "metadata": {},
   "source": [
    "## tf.add_to_collection(name, value)\n",
    "> 将`value`添加到列表`name`中\n",
    "\n",
    "```python\n",
    "import tensorflow as tf\n",
    "\n",
    "tf.add_to_collection('losses', tf.constant(2.2))\n",
    "tf.add_to_collection('losses', tf.constant(3.))\n",
    "\n",
    "with tf.Session() as sess:\n",
    "    print(sess.run(tf.get_collection('losses')))\n",
    "    print(sess.run(tf.add_n(tf.get_collection('losses'))\n",
    "                   \n",
    "* output:\n",
    "  [2.2, 3.0] \n",
    "                   \n",
    "  5.2\n",
    "```"
   ]
  },
  {
   "cell_type": "code",
   "execution_count": null,
   "metadata": {},
   "outputs": [],
   "source": []
  }
 ],
 "metadata": {
  "kernelspec": {
   "display_name": "Python 2",
   "language": "python",
   "name": "python2"
  },
  "language_info": {
   "codemirror_mode": {
    "name": "ipython",
    "version": 2
   },
   "file_extension": ".py",
   "mimetype": "text/x-python",
   "name": "python",
   "nbconvert_exporter": "python",
   "pygments_lexer": "ipython2",
   "version": "2.7.15"
  },
  "toc": {
   "base_numbering": 1,
   "nav_menu": {},
   "number_sections": true,
   "sideBar": true,
   "skip_h1_title": false,
   "title_cell": "Table of Contents",
   "title_sidebar": "Contents",
   "toc_cell": true,
   "toc_position": {},
   "toc_section_display": true,
   "toc_window_display": true
  }
 },
 "nbformat": 4,
 "nbformat_minor": 2
}
