{
 "cells": [
  {
   "cell_type": "markdown",
   "metadata": {
    "toc": true
   },
   "source": [
    "<h1>Table of Contents<span class=\"tocSkip\"></span></h1>\n",
    "<div class=\"toc\"><ul class=\"toc-item\"><li><span><a href=\"#保存模型\" data-toc-modified-id=\"保存模型-1\"><span class=\"toc-item-num\">1&nbsp;&nbsp;</span>保存模型</a></span></li><li><span><a href=\"#加载模型\" data-toc-modified-id=\"加载模型-2\"><span class=\"toc-item-num\">2&nbsp;&nbsp;</span>加载模型</a></span></li><li><span><a href=\"#实例化可还原滑动平均值的saver\" data-toc-modified-id=\"实例化可还原滑动平均值的saver-3\"><span class=\"toc-item-num\">3&nbsp;&nbsp;</span>实例化可还原滑动平均值的saver</a></span></li><li><span><a href=\"#均方误差计算方法\" data-toc-modified-id=\"均方误差计算方法-4\"><span class=\"toc-item-num\">4&nbsp;&nbsp;</span>均方误差计算方法</a></span></li><li><span><a href=\"#在损失函数中加入正则化\" data-toc-modified-id=\"在损失函数中加入正则化-5\"><span class=\"toc-item-num\">5&nbsp;&nbsp;</span>在损失函数中加入正则化</a></span></li><li><span><a href=\"#滑动平均\" data-toc-modified-id=\"滑动平均-6\"><span class=\"toc-item-num\">6&nbsp;&nbsp;</span>滑动平均</a></span></li></ul></div>"
   ]
  },
  {
   "cell_type": "markdown",
   "metadata": {},
   "source": [
    "## 保存模型"
   ]
  },
  {
   "cell_type": "code",
   "execution_count": null,
   "metadata": {},
   "outputs": [],
   "source": [
    "# 保存模型\n",
    "\n",
    "saver = tf.train.Saver()    # 实例化saver对象\n",
    "with tf.Session() as sess:\n",
    "    for i in xrange(STEPS):\n",
    "        if i % LOOP == 0:\n",
    "            saver.save(sess, \n",
    "                       os.path.join(MODEL_SAVE_PATH, MODEL_NAME),\n",
    "                       global_step = global_step)"
   ]
  },
  {
   "cell_type": "markdown",
   "metadata": {},
   "source": [
    "## 加载模型"
   ]
  },
  {
   "cell_type": "code",
   "execution_count": null,
   "metadata": {},
   "outputs": [],
   "source": [
    "# 加载模型\n",
    "\n",
    "with tf.Session() as sess:\n",
    "    ckpt = tf.train.get_checkpoint_state(MODEL_SAVE_PATH)\n",
    "    if ckpt and ckpt.model_checkpoint_path:\n",
    "        saver.restore(sess, ckpt.model_checkpoint_path)"
   ]
  },
  {
   "cell_type": "markdown",
   "metadata": {},
   "source": [
    "## 实例化可还原滑动平均值的saver"
   ]
  },
  {
   "cell_type": "code",
   "execution_count": null,
   "metadata": {},
   "outputs": [],
   "source": [
    "# 实例化可还原滑动平均值的saver\n",
    "\n",
    "ema = tf.train.ExponentialMovingAverage(MOVING_AVERAGE_DECAY)\n",
    "ema_restore = ema.variables_to_restore()\n",
    "saver = tf.train.Saver(ema_restore)"
   ]
  },
  {
   "cell_type": "markdown",
   "metadata": {},
   "source": [
    "## 均方误差计算方法"
   ]
  },
  {
   "cell_type": "code",
   "execution_count": null,
   "metadata": {},
   "outputs": [],
   "source": [
    "# 均方误差计算方法\n",
    "\n",
    "correct_prediciton = tf.equal(tf.argmax(y, 1), tf.argmax(y_, 1))\n",
    "accuracy = tf.reduce_mean(tf.cast(correct_prediction, tf.float32))"
   ]
  },
  {
   "cell_type": "markdown",
   "metadata": {},
   "source": [
    "## 在损失函数中加入正则化"
   ]
  },
  {
   "cell_type": "code",
   "execution_count": null,
   "metadata": {},
   "outputs": [],
   "source": [
    "# 在损失函数中加入正则化\n",
    "\n",
    "def get_weight(shape, regularizer):\n",
    "    w = tf.Variable(tf.random_normal(shape), dtype=tf.float32)\n",
    "    tf.add_to_collection('losses', tf.contrib.layers.l2_regularizer(regularizer)(w))\n",
    "    return w\n",
    "\n",
    "ce = tf.nn.sparse_softmax_cross_entropy_with_logits(logits=y, labels=tf.argmax(y_, 1))\n",
    "cem = tf.reduce_mean(ce)\n",
    "loss = cem + tf.add_n(tf.get_collection(\"losses\"))"
   ]
  },
  {
   "cell_type": "markdown",
   "metadata": {},
   "source": [
    "## 滑动平均"
   ]
  },
  {
   "cell_type": "code",
   "execution_count": null,
   "metadata": {},
   "outputs": [],
   "source": [
    "# 滑动平均\n",
    "\n",
    "train_step = tf.train.AdamOptimizer(learning_rate).minimize(loss_total)\n",
    "ema = tf.train.ExponentialMovingAverage(MOVING_AVERAGE_DECAY, global_step=global_step)\n",
    "ema_op = ema.apply(tf.trainable_variables())\n",
    "with tf.control_dependencies([train_step, ema_op]):\n",
    "    train_op = tf.no_op(name='train')"
   ]
  },
  {
   "cell_type": "code",
   "execution_count": null,
   "metadata": {},
   "outputs": [],
   "source": []
  }
 ],
 "metadata": {
  "kernelspec": {
   "display_name": "Python 2",
   "language": "python",
   "name": "python2"
  },
  "language_info": {
   "codemirror_mode": {
    "name": "ipython",
    "version": 2
   },
   "file_extension": ".py",
   "mimetype": "text/x-python",
   "name": "python",
   "nbconvert_exporter": "python",
   "pygments_lexer": "ipython2",
   "version": "2.7.14"
  },
  "toc": {
   "base_numbering": 1,
   "nav_menu": {},
   "number_sections": true,
   "sideBar": true,
   "skip_h1_title": false,
   "title_cell": "Table of Contents",
   "title_sidebar": "Contents",
   "toc_cell": true,
   "toc_position": {},
   "toc_section_display": true,
   "toc_window_display": true
  }
 },
 "nbformat": 4,
 "nbformat_minor": 2
}
