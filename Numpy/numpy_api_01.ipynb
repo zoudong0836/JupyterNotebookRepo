{
 "cells": [
  {
   "cell_type": "markdown",
   "metadata": {
    "toc": true
   },
   "source": [
    "<h1>Table of Contents<span class=\"tocSkip\"></span></h1>\n",
    "<div class=\"toc\"><ul class=\"toc-item\"><li><span><a href=\"#np.nonzero(a)\" data-toc-modified-id=\"np.nonzero(a)-1\"><span class=\"toc-item-num\">1&nbsp;&nbsp;</span>np.nonzero(a)</a></span></li></ul></div>"
   ]
  },
  {
   "cell_type": "markdown",
   "metadata": {},
   "source": [
    "## np.nonzero(a)\n",
    "[Link](https://blog.csdn.net/u013698770/article/details/54632047)  \n",
    "\n",
    "返回数组`a`中非零元素的索引值数组\n",
    "1. 只有`a`中非零元素才会有索引值，那些零值元素没有索引值\n",
    "2. 如果输入是1维，结果应该也是1维，2维的结果应该也是2维，往上同理 \n",
    "3. 索引值数组的每一个array均是从一个维度上来描述其索引值。比如，如果a是一个二维数组，则索引值数组有两个array，第一个array从行维度来描述索引值；第二个array从列维度来描述索引值。 \n",
    "4. 该`np.transpose(np.nonzero(x))`数能够描述出每一个非零元素在不同维度的索引值。 \n",
    "5. 通过`a[nonzero(a)]`得到所有a中的非零值\n"
   ]
  },
  {
   "cell_type": "code",
   "execution_count": null,
   "metadata": {},
   "outputs": [],
   "source": []
  }
 ],
 "metadata": {
  "kernelspec": {
   "display_name": "Python 3",
   "language": "python",
   "name": "python3"
  },
  "language_info": {
   "codemirror_mode": {
    "name": "ipython",
    "version": 3
   },
   "file_extension": ".py",
   "mimetype": "text/x-python",
   "name": "python",
   "nbconvert_exporter": "python",
   "pygments_lexer": "ipython3",
   "version": "3.6.5"
  },
  "toc": {
   "base_numbering": 1,
   "nav_menu": {},
   "number_sections": true,
   "sideBar": true,
   "skip_h1_title": false,
   "title_cell": "Table of Contents",
   "title_sidebar": "Contents",
   "toc_cell": true,
   "toc_position": {},
   "toc_section_display": true,
   "toc_window_display": true
  }
 },
 "nbformat": 4,
 "nbformat_minor": 2
}
