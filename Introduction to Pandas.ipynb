{
 "cells": [
  {
   "cell_type": "markdown",
   "metadata": {
    "toc": true
   },
   "source": [
    "<h1>Table of Contents<span class=\"tocSkip\"></span></h1>\n",
    "<div class=\"toc\"><ul class=\"toc-item\"><li><span><a href=\"#网络资源\" data-toc-modified-id=\"网络资源-1\"><span class=\"toc-item-num\">1&nbsp;&nbsp;</span>网络资源</a></span></li><li><span><a href=\"#Series-(序列)\" data-toc-modified-id=\"Series-(序列)-2\"><span class=\"toc-item-num\">2&nbsp;&nbsp;</span>Series (序列)</a></span></li><li><span><a href=\"#DataFrame-（数据帧）\" data-toc-modified-id=\"DataFrame-（数据帧）-3\"><span class=\"toc-item-num\">3&nbsp;&nbsp;</span>DataFrame （数据帧）</a></span></li></ul></div>"
   ]
  },
  {
   "cell_type": "markdown",
   "metadata": {},
   "source": [
    "### 网络资源\n",
    "https://www.jianshu.com/p/86e78d6b1862  \n",
    "https://www.jianshu.com/p/04d180d90a3f  \n",
    "http://pandas.pydata.org/pandas-docs/stable/cookbook.html"
   ]
  },
  {
   "cell_type": "code",
   "execution_count": 1,
   "metadata": {},
   "outputs": [],
   "source": [
    "import pandas as pd\n",
    "import numpy as np\n",
    "import matplotlib.pyplot as plt\n",
    "\n",
    "%matplotlib inline"
   ]
  },
  {
   "cell_type": "markdown",
   "metadata": {},
   "source": [
    "### Series (序列)\n",
    "\n",
    "Series 是带有标签的一维数组，可以保存任何数据类型(整数，字符串，浮点数，Python对象等)； 轴标签统称为索引\n",
    "\n",
    "这里，`data`可以是许多不同的东西：\n",
    "> * Python dict\n",
    "> * ndarray\n",
    "> * 标量值\n"
   ]
  },
  {
   "cell_type": "code",
   "execution_count": 79,
   "metadata": {},
   "outputs": [
    {
     "data": {
      "text/plain": [
       "A    1.0\n",
       "B    3.0\n",
       "C    5.0\n",
       "D    NaN\n",
       "E    6.0\n",
       "F    8.0\n",
       "dtype: float64"
      ]
     },
     "execution_count": 79,
     "metadata": {},
     "output_type": "execute_result"
    }
   ],
   "source": [
    "# 通过传递列表来创建Series\n",
    "\n",
    "# pd.Series(self, data=None, index=None, dtype=None, name=None, copy=False, fastpath=False)\n",
    "s = pd.Series([1, 3, 5, np.nan, 6, 8], index=list(\"ABCDEF\"))\n",
    "s"
   ]
  },
  {
   "cell_type": "code",
   "execution_count": 80,
   "metadata": {},
   "outputs": [
    {
     "data": {
      "text/plain": [
       "DatetimeIndex(['2013-01-01', '2013-01-02', '2013-01-03', '2013-01-04',\n",
       "               '2013-01-05', '2013-01-06'],\n",
       "              dtype='datetime64[ns]', freq='D')"
      ]
     },
     "execution_count": 80,
     "metadata": {},
     "output_type": "execute_result"
    }
   ],
   "source": [
    "# pd.date_range(start=None, end=None, periods=None, freq=None, tz=None, normalize=False,\n",
    "#               name=None, closed=None, **kwargs)\n",
    "dates = pd.date_range('20130101', periods=6)\n",
    "dates"
   ]
  },
  {
   "cell_type": "markdown",
   "metadata": {},
   "source": [
    "### DataFrame （数据帧）\n",
    "\n",
    "DataFrame是带有标签的二维数据结构，列的类型可能不同。可以把它想象成一个电子表格或SQL表，或者 Series 对象的字典。它一般是最常用的pandas对象。像 Series 一样，DataFrame 接受许多不同类型的输入\n",
    "\n",
    "> * 一维数组，列表，字典或 Series 的字典\n",
    "> * 二维 numpy.ndarray\n",
    "> * 结构化或记录 ndarray\n",
    "> * Series\n",
    "> * 另一个 DataFrame"
   ]
  },
  {
   "cell_type": "code",
   "execution_count": 72,
   "metadata": {},
   "outputs": [
    {
     "name": "stdout",
     "output_type": "stream",
     "text": [
      "A           float64\n",
      "B    datetime64[ns]\n",
      "C           float32\n",
      "D             int32\n",
      "E          category\n",
      "F            object\n",
      "dtype: object\n"
     ]
    },
    {
     "data": {
      "text/html": [
       "<div>\n",
       "<style scoped>\n",
       "    .dataframe tbody tr th:only-of-type {\n",
       "        vertical-align: middle;\n",
       "    }\n",
       "\n",
       "    .dataframe tbody tr th {\n",
       "        vertical-align: top;\n",
       "    }\n",
       "\n",
       "    .dataframe thead th {\n",
       "        text-align: right;\n",
       "    }\n",
       "</style>\n",
       "<table border=\"1\" class=\"dataframe\">\n",
       "  <thead>\n",
       "    <tr style=\"text-align: right;\">\n",
       "      <th></th>\n",
       "      <th>A</th>\n",
       "      <th>B</th>\n",
       "      <th>C</th>\n",
       "      <th>D</th>\n",
       "      <th>E</th>\n",
       "      <th>F</th>\n",
       "    </tr>\n",
       "  </thead>\n",
       "  <tbody>\n",
       "    <tr>\n",
       "      <th>A</th>\n",
       "      <td>1.0</td>\n",
       "      <td>2013-01-02</td>\n",
       "      <td>1.0</td>\n",
       "      <td>3</td>\n",
       "      <td>test</td>\n",
       "      <td>foo</td>\n",
       "    </tr>\n",
       "    <tr>\n",
       "      <th>1</th>\n",
       "      <td>1.0</td>\n",
       "      <td>2013-01-02</td>\n",
       "      <td>1.0</td>\n",
       "      <td>3</td>\n",
       "      <td>train</td>\n",
       "      <td>foo</td>\n",
       "    </tr>\n",
       "    <tr>\n",
       "      <th>B</th>\n",
       "      <td>1.0</td>\n",
       "      <td>2013-01-02</td>\n",
       "      <td>1.0</td>\n",
       "      <td>3</td>\n",
       "      <td>test</td>\n",
       "      <td>foo</td>\n",
       "    </tr>\n",
       "    <tr>\n",
       "      <th>2</th>\n",
       "      <td>1.0</td>\n",
       "      <td>2013-01-02</td>\n",
       "      <td>1.0</td>\n",
       "      <td>3</td>\n",
       "      <td>train</td>\n",
       "      <td>foo</td>\n",
       "    </tr>\n",
       "  </tbody>\n",
       "</table>\n",
       "</div>"
      ],
      "text/plain": [
       "     A          B    C  D      E    F\n",
       "A  1.0 2013-01-02  1.0  3   test  foo\n",
       "1  1.0 2013-01-02  1.0  3  train  foo\n",
       "B  1.0 2013-01-02  1.0  3   test  foo\n",
       "2  1.0 2013-01-02  1.0  3  train  foo"
      ]
     },
     "execution_count": 72,
     "metadata": {},
     "output_type": "execute_result"
    }
   ],
   "source": [
    "# 通过字典来创建 DataFrame\n",
    "\n",
    "df2 = pd.DataFrame(\n",
    "    {'A' : 1.,\n",
    "     'B' : pd.Timestamp('20130102'),\n",
    "      #'C' : pd.Series(1, index=list(range(4)), dtype='float32'),\n",
    "     'C' : pd.Series(1, index=list('A1B2'), dtype='float32'),\n",
    "     'D' : np.array([3] * 4, dtype='int32'),\n",
    "     'E' : pd.Categorical(['test', 'train', 'test', 'train']),\n",
    "     'F' : 'foo'\n",
    "    }\n",
    ")\n",
    "print df2.dtypes\n",
    "\n",
    "df2"
   ]
  },
  {
   "cell_type": "code",
   "execution_count": 67,
   "metadata": {},
   "outputs": [
    {
     "data": {
      "text/html": [
       "<div>\n",
       "<style scoped>\n",
       "    .dataframe tbody tr th:only-of-type {\n",
       "        vertical-align: middle;\n",
       "    }\n",
       "\n",
       "    .dataframe tbody tr th {\n",
       "        vertical-align: top;\n",
       "    }\n",
       "\n",
       "    .dataframe thead th {\n",
       "        text-align: right;\n",
       "    }\n",
       "</style>\n",
       "<table border=\"1\" class=\"dataframe\">\n",
       "  <thead>\n",
       "    <tr style=\"text-align: right;\">\n",
       "      <th></th>\n",
       "      <th>A</th>\n",
       "      <th>B</th>\n",
       "      <th>C</th>\n",
       "      <th>D</th>\n",
       "    </tr>\n",
       "  </thead>\n",
       "  <tbody>\n",
       "    <tr>\n",
       "      <th>2013-01-01</th>\n",
       "      <td>0.627825</td>\n",
       "      <td>-1.616918</td>\n",
       "      <td>-0.006788</td>\n",
       "      <td>-1.415149</td>\n",
       "    </tr>\n",
       "    <tr>\n",
       "      <th>2013-01-02</th>\n",
       "      <td>0.432170</td>\n",
       "      <td>1.006456</td>\n",
       "      <td>-1.293684</td>\n",
       "      <td>2.544772</td>\n",
       "    </tr>\n",
       "    <tr>\n",
       "      <th>2013-01-03</th>\n",
       "      <td>-0.889224</td>\n",
       "      <td>0.597732</td>\n",
       "      <td>0.577363</td>\n",
       "      <td>2.290629</td>\n",
       "    </tr>\n",
       "    <tr>\n",
       "      <th>2013-01-04</th>\n",
       "      <td>-0.500051</td>\n",
       "      <td>1.107704</td>\n",
       "      <td>0.270999</td>\n",
       "      <td>-0.022453</td>\n",
       "    </tr>\n",
       "    <tr>\n",
       "      <th>2013-01-05</th>\n",
       "      <td>-1.807229</td>\n",
       "      <td>-0.909051</td>\n",
       "      <td>-0.771422</td>\n",
       "      <td>0.834774</td>\n",
       "    </tr>\n",
       "    <tr>\n",
       "      <th>2013-01-06</th>\n",
       "      <td>1.276446</td>\n",
       "      <td>-0.186955</td>\n",
       "      <td>-1.373610</td>\n",
       "      <td>1.098402</td>\n",
       "    </tr>\n",
       "  </tbody>\n",
       "</table>\n",
       "</div>"
      ],
      "text/plain": [
       "                   A         B         C         D\n",
       "2013-01-01  0.627825 -1.616918 -0.006788 -1.415149\n",
       "2013-01-02  0.432170  1.006456 -1.293684  2.544772\n",
       "2013-01-03 -0.889224  0.597732  0.577363  2.290629\n",
       "2013-01-04 -0.500051  1.107704  0.270999 -0.022453\n",
       "2013-01-05 -1.807229 -0.909051 -0.771422  0.834774\n",
       "2013-01-06  1.276446 -0.186955 -1.373610  1.098402"
      ]
     },
     "execution_count": 67,
     "metadata": {},
     "output_type": "execute_result"
    }
   ],
   "source": [
    "# 使用numpy矩阵来创建一个DataFrame，并指定index和column\n",
    "\n",
    "# pd.DataFrame(self, data=None, index=None, columns=None, dtype=None, copy=False)\n",
    "df = pd.DataFrame(np.random.randn(6, 4), index=dates, columns=list('ABCD'))\n",
    "df\n",
    "\n",
    "# print '-=-=-=-=-=-=-=-=-=-=-=-=-=-=-=-=-=-=-=-=-=-=-'\n",
    "# print df.head(2)         # 查看前2行数据\n",
    "# print '-=-=-=-=-=-=-=-=-=-=-=-=-=-=-=-=-=-=-=-=-=-=-'\n",
    "# print df.tail(2)         # 查看后2行数据\n",
    "# print '-=-=-=-=-=-=-=-=-=-=-=-=-=-=-=-=-=-=-=-=-=-=-'\n",
    "# print df.index           # 显示行号\n",
    "# print '-=-=-=-=-=-=-=-=-=-=-=-=-=-=-=-=-=-=-=-=-=-=-'\n",
    "# print df.columns         # 显示列号\n",
    "# print '-=-=-=-=-=-=-=-=-=-=-=-=-=-=-=-=-=-=-=-=-=-=-'\n",
    "# print df.values          # 显示值\n",
    "# print '-=-=-=-=-=-=-=-=-=-=-=-=-=-=-=-=-=-=-=-=-=-=-'\n",
    "# print df.describe()      # 显示统计数据\n",
    "# print '-=-=-=-=-=-=-=-=-=-=-=-=-=-=-=-=-=-=-=-=-=-=-'\n",
    "# print df.T               # 转置数据"
   ]
  },
  {
   "cell_type": "code",
   "execution_count": 66,
   "metadata": {},
   "outputs": [
    {
     "data": {
      "text/html": [
       "<div>\n",
       "<style scoped>\n",
       "    .dataframe tbody tr th:only-of-type {\n",
       "        vertical-align: middle;\n",
       "    }\n",
       "\n",
       "    .dataframe tbody tr th {\n",
       "        vertical-align: top;\n",
       "    }\n",
       "\n",
       "    .dataframe thead th {\n",
       "        text-align: right;\n",
       "    }\n",
       "</style>\n",
       "<table border=\"1\" class=\"dataframe\">\n",
       "  <thead>\n",
       "    <tr style=\"text-align: right;\">\n",
       "      <th></th>\n",
       "      <th>A</th>\n",
       "      <th>B</th>\n",
       "      <th>C</th>\n",
       "      <th>D</th>\n",
       "    </tr>\n",
       "  </thead>\n",
       "  <tbody>\n",
       "    <tr>\n",
       "      <th>2013-01-01</th>\n",
       "      <td>0.874657</td>\n",
       "      <td>-0.966868</td>\n",
       "      <td>0.499567</td>\n",
       "      <td>0.850980</td>\n",
       "    </tr>\n",
       "    <tr>\n",
       "      <th>2013-01-02</th>\n",
       "      <td>0.783856</td>\n",
       "      <td>-0.381143</td>\n",
       "      <td>1.290624</td>\n",
       "      <td>0.041766</td>\n",
       "    </tr>\n",
       "  </tbody>\n",
       "</table>\n",
       "</div>"
      ],
      "text/plain": [
       "                   A         B         C         D\n",
       "2013-01-01  0.874657 -0.966868  0.499567  0.850980\n",
       "2013-01-02  0.783856 -0.381143  1.290624  0.041766"
      ]
     },
     "execution_count": 66,
     "metadata": {},
     "output_type": "execute_result"
    }
   ],
   "source": [
    "# 查看前2行数据\n",
    "\n",
    "df.head(2)         "
   ]
  },
  {
   "cell_type": "code",
   "execution_count": 65,
   "metadata": {},
   "outputs": [
    {
     "data": {
      "text/html": [
       "<div>\n",
       "<style scoped>\n",
       "    .dataframe tbody tr th:only-of-type {\n",
       "        vertical-align: middle;\n",
       "    }\n",
       "\n",
       "    .dataframe tbody tr th {\n",
       "        vertical-align: top;\n",
       "    }\n",
       "\n",
       "    .dataframe thead th {\n",
       "        text-align: right;\n",
       "    }\n",
       "</style>\n",
       "<table border=\"1\" class=\"dataframe\">\n",
       "  <thead>\n",
       "    <tr style=\"text-align: right;\">\n",
       "      <th></th>\n",
       "      <th>A</th>\n",
       "      <th>B</th>\n",
       "      <th>C</th>\n",
       "      <th>D</th>\n",
       "    </tr>\n",
       "  </thead>\n",
       "  <tbody>\n",
       "    <tr>\n",
       "      <th>2013-01-05</th>\n",
       "      <td>1.645235</td>\n",
       "      <td>-1.008540</td>\n",
       "      <td>-1.266524</td>\n",
       "      <td>1.070911</td>\n",
       "    </tr>\n",
       "    <tr>\n",
       "      <th>2013-01-06</th>\n",
       "      <td>0.403753</td>\n",
       "      <td>-1.129222</td>\n",
       "      <td>0.932033</td>\n",
       "      <td>0.013987</td>\n",
       "    </tr>\n",
       "  </tbody>\n",
       "</table>\n",
       "</div>"
      ],
      "text/plain": [
       "                   A         B         C         D\n",
       "2013-01-05  1.645235 -1.008540 -1.266524  1.070911\n",
       "2013-01-06  0.403753 -1.129222  0.932033  0.013987"
      ]
     },
     "execution_count": 65,
     "metadata": {},
     "output_type": "execute_result"
    }
   ],
   "source": [
    "# 查看后2行数据\n",
    "\n",
    "df.tail(2)"
   ]
  },
  {
   "cell_type": "code",
   "execution_count": 64,
   "metadata": {},
   "outputs": [
    {
     "data": {
      "text/plain": [
       "DatetimeIndex(['2013-01-01', '2013-01-02', '2013-01-03', '2013-01-04',\n",
       "               '2013-01-05', '2013-01-06'],\n",
       "              dtype='datetime64[ns]', freq='D')"
      ]
     },
     "execution_count": 64,
     "metadata": {},
     "output_type": "execute_result"
    }
   ],
   "source": [
    "# 显示行号\n",
    "\n",
    "df.index "
   ]
  },
  {
   "cell_type": "code",
   "execution_count": 63,
   "metadata": {},
   "outputs": [
    {
     "data": {
      "text/plain": [
       "Index([u'A', u'B', u'C', u'D'], dtype='object')"
      ]
     },
     "execution_count": 63,
     "metadata": {},
     "output_type": "execute_result"
    }
   ],
   "source": [
    "# 显示列号\n",
    "\n",
    "df.columns"
   ]
  },
  {
   "cell_type": "code",
   "execution_count": 62,
   "metadata": {},
   "outputs": [
    {
     "data": {
      "text/plain": [
       "array([[ 0.87465747, -0.96686802,  0.49956691,  0.85097996],\n",
       "       [ 0.7838564 , -0.38114258,  1.29062435,  0.0417657 ],\n",
       "       [-0.89428256, -1.83755198, -0.41991472,  0.14392204],\n",
       "       [ 1.08561679, -1.17118815,  2.12850607, -0.52336756],\n",
       "       [ 1.64523512, -1.00853973, -1.26652438,  1.07091105],\n",
       "       [ 0.40375337, -1.12922221,  0.9320325 ,  0.0139872 ]])"
      ]
     },
     "execution_count": 62,
     "metadata": {},
     "output_type": "execute_result"
    }
   ],
   "source": [
    "# 显示值\n",
    "\n",
    "df.values"
   ]
  },
  {
   "cell_type": "code",
   "execution_count": 61,
   "metadata": {},
   "outputs": [
    {
     "data": {
      "text/html": [
       "<div>\n",
       "<style scoped>\n",
       "    .dataframe tbody tr th:only-of-type {\n",
       "        vertical-align: middle;\n",
       "    }\n",
       "\n",
       "    .dataframe tbody tr th {\n",
       "        vertical-align: top;\n",
       "    }\n",
       "\n",
       "    .dataframe thead th {\n",
       "        text-align: right;\n",
       "    }\n",
       "</style>\n",
       "<table border=\"1\" class=\"dataframe\">\n",
       "  <thead>\n",
       "    <tr style=\"text-align: right;\">\n",
       "      <th></th>\n",
       "      <th>A</th>\n",
       "      <th>B</th>\n",
       "      <th>C</th>\n",
       "      <th>D</th>\n",
       "    </tr>\n",
       "  </thead>\n",
       "  <tbody>\n",
       "    <tr>\n",
       "      <th>count</th>\n",
       "      <td>6.000000</td>\n",
       "      <td>6.000000</td>\n",
       "      <td>6.000000</td>\n",
       "      <td>6.000000</td>\n",
       "    </tr>\n",
       "    <tr>\n",
       "      <th>mean</th>\n",
       "      <td>0.649806</td>\n",
       "      <td>-1.082419</td>\n",
       "      <td>0.527382</td>\n",
       "      <td>0.266366</td>\n",
       "    </tr>\n",
       "    <tr>\n",
       "      <th>std</th>\n",
       "      <td>0.859545</td>\n",
       "      <td>0.467096</td>\n",
       "      <td>1.218698</td>\n",
       "      <td>0.590234</td>\n",
       "    </tr>\n",
       "    <tr>\n",
       "      <th>min</th>\n",
       "      <td>-0.894283</td>\n",
       "      <td>-1.837552</td>\n",
       "      <td>-1.266524</td>\n",
       "      <td>-0.523368</td>\n",
       "    </tr>\n",
       "    <tr>\n",
       "      <th>25%</th>\n",
       "      <td>0.498779</td>\n",
       "      <td>-1.160697</td>\n",
       "      <td>-0.190044</td>\n",
       "      <td>0.020932</td>\n",
       "    </tr>\n",
       "    <tr>\n",
       "      <th>50%</th>\n",
       "      <td>0.829257</td>\n",
       "      <td>-1.068881</td>\n",
       "      <td>0.715800</td>\n",
       "      <td>0.092844</td>\n",
       "    </tr>\n",
       "    <tr>\n",
       "      <th>75%</th>\n",
       "      <td>1.032877</td>\n",
       "      <td>-0.977286</td>\n",
       "      <td>1.200976</td>\n",
       "      <td>0.674215</td>\n",
       "    </tr>\n",
       "    <tr>\n",
       "      <th>max</th>\n",
       "      <td>1.645235</td>\n",
       "      <td>-0.381143</td>\n",
       "      <td>2.128506</td>\n",
       "      <td>1.070911</td>\n",
       "    </tr>\n",
       "  </tbody>\n",
       "</table>\n",
       "</div>"
      ],
      "text/plain": [
       "              A         B         C         D\n",
       "count  6.000000  6.000000  6.000000  6.000000\n",
       "mean   0.649806 -1.082419  0.527382  0.266366\n",
       "std    0.859545  0.467096  1.218698  0.590234\n",
       "min   -0.894283 -1.837552 -1.266524 -0.523368\n",
       "25%    0.498779 -1.160697 -0.190044  0.020932\n",
       "50%    0.829257 -1.068881  0.715800  0.092844\n",
       "75%    1.032877 -0.977286  1.200976  0.674215\n",
       "max    1.645235 -0.381143  2.128506  1.070911"
      ]
     },
     "execution_count": 61,
     "metadata": {},
     "output_type": "execute_result"
    }
   ],
   "source": [
    "# 显示统计数据\n",
    "# df.describe(percentiles=None, include=None, exclude=None)\n",
    "\n",
    "df.describe()"
   ]
  },
  {
   "cell_type": "code",
   "execution_count": 60,
   "metadata": {},
   "outputs": [
    {
     "data": {
      "text/html": [
       "<div>\n",
       "<style scoped>\n",
       "    .dataframe tbody tr th:only-of-type {\n",
       "        vertical-align: middle;\n",
       "    }\n",
       "\n",
       "    .dataframe tbody tr th {\n",
       "        vertical-align: top;\n",
       "    }\n",
       "\n",
       "    .dataframe thead th {\n",
       "        text-align: right;\n",
       "    }\n",
       "</style>\n",
       "<table border=\"1\" class=\"dataframe\">\n",
       "  <thead>\n",
       "    <tr style=\"text-align: right;\">\n",
       "      <th></th>\n",
       "      <th>2013-01-01 00:00:00</th>\n",
       "      <th>2013-01-02 00:00:00</th>\n",
       "      <th>2013-01-03 00:00:00</th>\n",
       "      <th>2013-01-04 00:00:00</th>\n",
       "      <th>2013-01-05 00:00:00</th>\n",
       "      <th>2013-01-06 00:00:00</th>\n",
       "    </tr>\n",
       "  </thead>\n",
       "  <tbody>\n",
       "    <tr>\n",
       "      <th>A</th>\n",
       "      <td>0.874657</td>\n",
       "      <td>0.783856</td>\n",
       "      <td>-0.894283</td>\n",
       "      <td>1.085617</td>\n",
       "      <td>1.645235</td>\n",
       "      <td>0.403753</td>\n",
       "    </tr>\n",
       "    <tr>\n",
       "      <th>B</th>\n",
       "      <td>-0.966868</td>\n",
       "      <td>-0.381143</td>\n",
       "      <td>-1.837552</td>\n",
       "      <td>-1.171188</td>\n",
       "      <td>-1.008540</td>\n",
       "      <td>-1.129222</td>\n",
       "    </tr>\n",
       "    <tr>\n",
       "      <th>C</th>\n",
       "      <td>0.499567</td>\n",
       "      <td>1.290624</td>\n",
       "      <td>-0.419915</td>\n",
       "      <td>2.128506</td>\n",
       "      <td>-1.266524</td>\n",
       "      <td>0.932033</td>\n",
       "    </tr>\n",
       "    <tr>\n",
       "      <th>D</th>\n",
       "      <td>0.850980</td>\n",
       "      <td>0.041766</td>\n",
       "      <td>0.143922</td>\n",
       "      <td>-0.523368</td>\n",
       "      <td>1.070911</td>\n",
       "      <td>0.013987</td>\n",
       "    </tr>\n",
       "  </tbody>\n",
       "</table>\n",
       "</div>"
      ],
      "text/plain": [
       "   2013-01-01  2013-01-02  2013-01-03  2013-01-04  2013-01-05  2013-01-06\n",
       "A    0.874657    0.783856   -0.894283    1.085617    1.645235    0.403753\n",
       "B   -0.966868   -0.381143   -1.837552   -1.171188   -1.008540   -1.129222\n",
       "C    0.499567    1.290624   -0.419915    2.128506   -1.266524    0.932033\n",
       "D    0.850980    0.041766    0.143922   -0.523368    1.070911    0.013987"
      ]
     },
     "execution_count": 60,
     "metadata": {},
     "output_type": "execute_result"
    }
   ],
   "source": [
    "# 转置数据\n",
    "\n",
    "df.T"
   ]
  },
  {
   "cell_type": "code",
   "execution_count": 59,
   "metadata": {},
   "outputs": [
    {
     "data": {
      "text/html": [
       "<div>\n",
       "<style scoped>\n",
       "    .dataframe tbody tr th:only-of-type {\n",
       "        vertical-align: middle;\n",
       "    }\n",
       "\n",
       "    .dataframe tbody tr th {\n",
       "        vertical-align: top;\n",
       "    }\n",
       "\n",
       "    .dataframe thead th {\n",
       "        text-align: right;\n",
       "    }\n",
       "</style>\n",
       "<table border=\"1\" class=\"dataframe\">\n",
       "  <thead>\n",
       "    <tr style=\"text-align: right;\">\n",
       "      <th></th>\n",
       "      <th>D</th>\n",
       "      <th>C</th>\n",
       "      <th>B</th>\n",
       "      <th>A</th>\n",
       "    </tr>\n",
       "  </thead>\n",
       "  <tbody>\n",
       "    <tr>\n",
       "      <th>2013-01-01</th>\n",
       "      <td>0.850980</td>\n",
       "      <td>0.499567</td>\n",
       "      <td>-0.966868</td>\n",
       "      <td>0.874657</td>\n",
       "    </tr>\n",
       "    <tr>\n",
       "      <th>2013-01-02</th>\n",
       "      <td>0.041766</td>\n",
       "      <td>1.290624</td>\n",
       "      <td>-0.381143</td>\n",
       "      <td>0.783856</td>\n",
       "    </tr>\n",
       "    <tr>\n",
       "      <th>2013-01-03</th>\n",
       "      <td>0.143922</td>\n",
       "      <td>-0.419915</td>\n",
       "      <td>-1.837552</td>\n",
       "      <td>-0.894283</td>\n",
       "    </tr>\n",
       "    <tr>\n",
       "      <th>2013-01-04</th>\n",
       "      <td>-0.523368</td>\n",
       "      <td>2.128506</td>\n",
       "      <td>-1.171188</td>\n",
       "      <td>1.085617</td>\n",
       "    </tr>\n",
       "    <tr>\n",
       "      <th>2013-01-05</th>\n",
       "      <td>1.070911</td>\n",
       "      <td>-1.266524</td>\n",
       "      <td>-1.008540</td>\n",
       "      <td>1.645235</td>\n",
       "    </tr>\n",
       "    <tr>\n",
       "      <th>2013-01-06</th>\n",
       "      <td>0.013987</td>\n",
       "      <td>0.932033</td>\n",
       "      <td>-1.129222</td>\n",
       "      <td>0.403753</td>\n",
       "    </tr>\n",
       "  </tbody>\n",
       "</table>\n",
       "</div>"
      ],
      "text/plain": [
       "                   D         C         B         A\n",
       "2013-01-01  0.850980  0.499567 -0.966868  0.874657\n",
       "2013-01-02  0.041766  1.290624 -0.381143  0.783856\n",
       "2013-01-03  0.143922 -0.419915 -1.837552 -0.894283\n",
       "2013-01-04 -0.523368  2.128506 -1.171188  1.085617\n",
       "2013-01-05  1.070911 -1.266524 -1.008540  1.645235\n",
       "2013-01-06  0.013987  0.932033 -1.129222  0.403753"
      ]
     },
     "execution_count": 59,
     "metadata": {},
     "output_type": "execute_result"
    }
   ],
   "source": [
    "# 按轴排序\n",
    "# df.sort_index(axis=0, level=None, ascending=True, inplace=False, kind='quicksort', \n",
    "#               na_position='last', sort_remaining=True, by=None)\n",
    "\n",
    "df.sort_index(axis=1, ascending=False)"
   ]
  },
  {
   "cell_type": "code",
   "execution_count": 58,
   "metadata": {},
   "outputs": [
    {
     "data": {
      "text/html": [
       "<div>\n",
       "<style scoped>\n",
       "    .dataframe tbody tr th:only-of-type {\n",
       "        vertical-align: middle;\n",
       "    }\n",
       "\n",
       "    .dataframe tbody tr th {\n",
       "        vertical-align: top;\n",
       "    }\n",
       "\n",
       "    .dataframe thead th {\n",
       "        text-align: right;\n",
       "    }\n",
       "</style>\n",
       "<table border=\"1\" class=\"dataframe\">\n",
       "  <thead>\n",
       "    <tr style=\"text-align: right;\">\n",
       "      <th></th>\n",
       "      <th>A</th>\n",
       "      <th>B</th>\n",
       "      <th>C</th>\n",
       "      <th>D</th>\n",
       "    </tr>\n",
       "  </thead>\n",
       "  <tbody>\n",
       "    <tr>\n",
       "      <th>2013-01-03</th>\n",
       "      <td>-0.894283</td>\n",
       "      <td>-1.837552</td>\n",
       "      <td>-0.419915</td>\n",
       "      <td>0.143922</td>\n",
       "    </tr>\n",
       "    <tr>\n",
       "      <th>2013-01-04</th>\n",
       "      <td>1.085617</td>\n",
       "      <td>-1.171188</td>\n",
       "      <td>2.128506</td>\n",
       "      <td>-0.523368</td>\n",
       "    </tr>\n",
       "    <tr>\n",
       "      <th>2013-01-06</th>\n",
       "      <td>0.403753</td>\n",
       "      <td>-1.129222</td>\n",
       "      <td>0.932033</td>\n",
       "      <td>0.013987</td>\n",
       "    </tr>\n",
       "    <tr>\n",
       "      <th>2013-01-05</th>\n",
       "      <td>1.645235</td>\n",
       "      <td>-1.008540</td>\n",
       "      <td>-1.266524</td>\n",
       "      <td>1.070911</td>\n",
       "    </tr>\n",
       "    <tr>\n",
       "      <th>2013-01-01</th>\n",
       "      <td>0.874657</td>\n",
       "      <td>-0.966868</td>\n",
       "      <td>0.499567</td>\n",
       "      <td>0.850980</td>\n",
       "    </tr>\n",
       "    <tr>\n",
       "      <th>2013-01-02</th>\n",
       "      <td>0.783856</td>\n",
       "      <td>-0.381143</td>\n",
       "      <td>1.290624</td>\n",
       "      <td>0.041766</td>\n",
       "    </tr>\n",
       "  </tbody>\n",
       "</table>\n",
       "</div>"
      ],
      "text/plain": [
       "                   A         B         C         D\n",
       "2013-01-03 -0.894283 -1.837552 -0.419915  0.143922\n",
       "2013-01-04  1.085617 -1.171188  2.128506 -0.523368\n",
       "2013-01-06  0.403753 -1.129222  0.932033  0.013987\n",
       "2013-01-05  1.645235 -1.008540 -1.266524  1.070911\n",
       "2013-01-01  0.874657 -0.966868  0.499567  0.850980\n",
       "2013-01-02  0.783856 -0.381143  1.290624  0.041766"
      ]
     },
     "execution_count": 58,
     "metadata": {},
     "output_type": "execute_result"
    }
   ],
   "source": [
    "# 按值排序\n",
    "# df.sort_values(by, axis=0, ascending=True, inplace=False, kind='quicksort', na_position='last')\n",
    "\n",
    "df.sort_values(by='B')"
   ]
  },
  {
   "cell_type": "code",
   "execution_count": 71,
   "metadata": {},
   "outputs": [
    {
     "data": {
      "text/plain": [
       "2013-01-01    0.627825\n",
       "2013-01-02    0.432170\n",
       "2013-01-03   -0.889224\n",
       "2013-01-04   -0.500051\n",
       "2013-01-05   -1.807229\n",
       "2013-01-06    1.276446\n",
       "Freq: D, Name: A, dtype: float64"
      ]
     },
     "execution_count": 71,
     "metadata": {},
     "output_type": "execute_result"
    }
   ],
   "source": [
    "# 选择单列，产生一个Series序列，等价于df.A\n",
    "\n",
    "df['A']\n",
    "#df.A"
   ]
  },
  {
   "cell_type": "code",
   "execution_count": 70,
   "metadata": {},
   "outputs": [
    {
     "data": {
      "text/html": [
       "<div>\n",
       "<style scoped>\n",
       "    .dataframe tbody tr th:only-of-type {\n",
       "        vertical-align: middle;\n",
       "    }\n",
       "\n",
       "    .dataframe tbody tr th {\n",
       "        vertical-align: top;\n",
       "    }\n",
       "\n",
       "    .dataframe thead th {\n",
       "        text-align: right;\n",
       "    }\n",
       "</style>\n",
       "<table border=\"1\" class=\"dataframe\">\n",
       "  <thead>\n",
       "    <tr style=\"text-align: right;\">\n",
       "      <th></th>\n",
       "      <th>A</th>\n",
       "      <th>B</th>\n",
       "      <th>C</th>\n",
       "      <th>D</th>\n",
       "    </tr>\n",
       "  </thead>\n",
       "  <tbody>\n",
       "    <tr>\n",
       "      <th>2013-01-01</th>\n",
       "      <td>0.627825</td>\n",
       "      <td>-1.616918</td>\n",
       "      <td>-0.006788</td>\n",
       "      <td>-1.415149</td>\n",
       "    </tr>\n",
       "    <tr>\n",
       "      <th>2013-01-02</th>\n",
       "      <td>0.432170</td>\n",
       "      <td>1.006456</td>\n",
       "      <td>-1.293684</td>\n",
       "      <td>2.544772</td>\n",
       "    </tr>\n",
       "    <tr>\n",
       "      <th>2013-01-03</th>\n",
       "      <td>-0.889224</td>\n",
       "      <td>0.597732</td>\n",
       "      <td>0.577363</td>\n",
       "      <td>2.290629</td>\n",
       "    </tr>\n",
       "  </tbody>\n",
       "</table>\n",
       "</div>"
      ],
      "text/plain": [
       "                   A         B         C         D\n",
       "2013-01-01  0.627825 -1.616918 -0.006788 -1.415149\n",
       "2013-01-02  0.432170  1.006456 -1.293684  2.544772\n",
       "2013-01-03 -0.889224  0.597732  0.577363  2.290629"
      ]
     },
     "execution_count": 70,
     "metadata": {},
     "output_type": "execute_result"
    }
   ],
   "source": [
    "# 使用[]选取某几行的数据\n",
    "\n",
    "df[0:3]\n",
    "#df['20130102' : '20130104']"
   ]
  },
  {
   "cell_type": "code",
   "execution_count": 73,
   "metadata": {},
   "outputs": [
    {
     "data": {
      "text/plain": [
       "A    0.627825\n",
       "B   -1.616918\n",
       "C   -0.006788\n",
       "D   -1.415149\n",
       "Name: 2013-01-01 00:00:00, dtype: float64"
      ]
     },
     "execution_count": 73,
     "metadata": {},
     "output_type": "execute_result"
    }
   ],
   "source": [
    "# 使用标签获取横截面数据\n",
    "\n",
    "df.loc[dates[0]]"
   ]
  },
  {
   "cell_type": "code",
   "execution_count": 75,
   "metadata": {},
   "outputs": [
    {
     "data": {
      "text/html": [
       "<div>\n",
       "<style scoped>\n",
       "    .dataframe tbody tr th:only-of-type {\n",
       "        vertical-align: middle;\n",
       "    }\n",
       "\n",
       "    .dataframe tbody tr th {\n",
       "        vertical-align: top;\n",
       "    }\n",
       "\n",
       "    .dataframe thead th {\n",
       "        text-align: right;\n",
       "    }\n",
       "</style>\n",
       "<table border=\"1\" class=\"dataframe\">\n",
       "  <thead>\n",
       "    <tr style=\"text-align: right;\">\n",
       "      <th></th>\n",
       "      <th>A</th>\n",
       "      <th>B</th>\n",
       "    </tr>\n",
       "  </thead>\n",
       "  <tbody>\n",
       "    <tr>\n",
       "      <th>2013-01-01</th>\n",
       "      <td>0.627825</td>\n",
       "      <td>-1.616918</td>\n",
       "    </tr>\n",
       "    <tr>\n",
       "      <th>2013-01-02</th>\n",
       "      <td>0.432170</td>\n",
       "      <td>1.006456</td>\n",
       "    </tr>\n",
       "    <tr>\n",
       "      <th>2013-01-03</th>\n",
       "      <td>-0.889224</td>\n",
       "      <td>0.597732</td>\n",
       "    </tr>\n",
       "    <tr>\n",
       "      <th>2013-01-04</th>\n",
       "      <td>-0.500051</td>\n",
       "      <td>1.107704</td>\n",
       "    </tr>\n",
       "    <tr>\n",
       "      <th>2013-01-05</th>\n",
       "      <td>-1.807229</td>\n",
       "      <td>-0.909051</td>\n",
       "    </tr>\n",
       "    <tr>\n",
       "      <th>2013-01-06</th>\n",
       "      <td>1.276446</td>\n",
       "      <td>-0.186955</td>\n",
       "    </tr>\n",
       "  </tbody>\n",
       "</table>\n",
       "</div>"
      ],
      "text/plain": [
       "                   A         B\n",
       "2013-01-01  0.627825 -1.616918\n",
       "2013-01-02  0.432170  1.006456\n",
       "2013-01-03 -0.889224  0.597732\n",
       "2013-01-04 -0.500051  1.107704\n",
       "2013-01-05 -1.807229 -0.909051\n",
       "2013-01-06  1.276446 -0.186955"
      ]
     },
     "execution_count": 75,
     "metadata": {},
     "output_type": "execute_result"
    }
   ],
   "source": [
    "# 使用标签选择多轴数据\n",
    "\n",
    "df.loc[:, ['A', 'B']]"
   ]
  },
  {
   "cell_type": "code",
   "execution_count": 76,
   "metadata": {},
   "outputs": [
    {
     "data": {
      "text/html": [
       "<div>\n",
       "<style scoped>\n",
       "    .dataframe tbody tr th:only-of-type {\n",
       "        vertical-align: middle;\n",
       "    }\n",
       "\n",
       "    .dataframe tbody tr th {\n",
       "        vertical-align: top;\n",
       "    }\n",
       "\n",
       "    .dataframe thead th {\n",
       "        text-align: right;\n",
       "    }\n",
       "</style>\n",
       "<table border=\"1\" class=\"dataframe\">\n",
       "  <thead>\n",
       "    <tr style=\"text-align: right;\">\n",
       "      <th></th>\n",
       "      <th>A</th>\n",
       "      <th>B</th>\n",
       "    </tr>\n",
       "  </thead>\n",
       "  <tbody>\n",
       "    <tr>\n",
       "      <th>2013-01-02</th>\n",
       "      <td>0.432170</td>\n",
       "      <td>1.006456</td>\n",
       "    </tr>\n",
       "    <tr>\n",
       "      <th>2013-01-03</th>\n",
       "      <td>-0.889224</td>\n",
       "      <td>0.597732</td>\n",
       "    </tr>\n",
       "    <tr>\n",
       "      <th>2013-01-04</th>\n",
       "      <td>-0.500051</td>\n",
       "      <td>1.107704</td>\n",
       "    </tr>\n",
       "  </tbody>\n",
       "</table>\n",
       "</div>"
      ],
      "text/plain": [
       "                   A         B\n",
       "2013-01-02  0.432170  1.006456\n",
       "2013-01-03 -0.889224  0.597732\n",
       "2013-01-04 -0.500051  1.107704"
      ]
     },
     "execution_count": 76,
     "metadata": {},
     "output_type": "execute_result"
    }
   ],
   "source": [
    "# 使用标签选择区域数据(包含两个端点)\n",
    "\n",
    "df.loc['20130102':'20130104', ['A', 'B']]"
   ]
  },
  {
   "cell_type": "code",
   "execution_count": 77,
   "metadata": {},
   "outputs": [
    {
     "data": {
      "text/plain": [
       "0.6278247499549321"
      ]
     },
     "execution_count": 77,
     "metadata": {},
     "output_type": "execute_result"
    }
   ],
   "source": [
    "# 使用标签获取具体数据\n",
    "\n",
    "df.loc[dates[0], 'A']"
   ]
  },
  {
   "cell_type": "code",
   "execution_count": 78,
   "metadata": {},
   "outputs": [
    {
     "data": {
      "text/plain": [
       "0.6278247499549321"
      ]
     },
     "execution_count": 78,
     "metadata": {},
     "output_type": "execute_result"
    }
   ],
   "source": [
    "# 快速获取数据的方法 （等价于上述方法）\n",
    "\n",
    "df.at[dates[0], 'A']"
   ]
  },
  {
   "cell_type": "code",
   "execution_count": null,
   "metadata": {},
   "outputs": [],
   "source": []
  },
  {
   "cell_type": "code",
   "execution_count": null,
   "metadata": {},
   "outputs": [],
   "source": []
  }
 ],
 "metadata": {
  "kernelspec": {
   "display_name": "Python 2",
   "language": "python",
   "name": "python2"
  },
  "language_info": {
   "codemirror_mode": {
    "name": "ipython",
    "version": 2
   },
   "file_extension": ".py",
   "mimetype": "text/x-python",
   "name": "python",
   "nbconvert_exporter": "python",
   "pygments_lexer": "ipython2",
   "version": "2.7.14"
  },
  "toc": {
   "base_numbering": 1,
   "nav_menu": {},
   "number_sections": true,
   "sideBar": true,
   "skip_h1_title": false,
   "title_cell": "Table of Contents",
   "title_sidebar": "Contents",
   "toc_cell": true,
   "toc_position": {},
   "toc_section_display": true,
   "toc_window_display": true
  }
 },
 "nbformat": 4,
 "nbformat_minor": 2
}
