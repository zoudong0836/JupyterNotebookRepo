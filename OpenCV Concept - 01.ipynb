{
 "cells": [
  {
   "cell_type": "markdown",
   "metadata": {
    "toc": true
   },
   "source": [
    "<h1>Table of Contents<span class=\"tocSkip\"></span></h1>\n",
    "<div class=\"toc\"><ul class=\"toc-item\"><li><span><a href=\"#尺度空间极值检测\" data-toc-modified-id=\"尺度空间极值检测-1\"><span class=\"toc-item-num\">1&nbsp;&nbsp;</span>尺度空间极值检测</a></span><ul class=\"toc-item\"><li><span><a href=\"#背景\" data-toc-modified-id=\"背景-1.1\"><span class=\"toc-item-num\">1.1&nbsp;&nbsp;</span>背景</a></span></li><li><span><a href=\"#原理\" data-toc-modified-id=\"原理-1.2\"><span class=\"toc-item-num\">1.2&nbsp;&nbsp;</span>原理</a></span></li></ul></li><li><span><a href=\"#非极大值抑制\" data-toc-modified-id=\"非极大值抑制-2\"><span class=\"toc-item-num\">2&nbsp;&nbsp;</span>非极大值抑制</a></span></li></ul></div>"
   ]
  },
  {
   "cell_type": "markdown",
   "metadata": {},
   "source": [
    "## 尺度空间极值检测\n",
    "\n",
    "### 背景\n",
    "> Harris算法具有旋转不变性，即使图片发生了旋转，也能找到同样的角点；但是，如果对图像进行缩放后，角点可能就不再是角点了；例如，在一副小图中使用一个小的窗口可以检测到一个角点，但是如果图像被放大，再使用同样的窗口就检测不到角点了  \n",
    "\n",
    "### 原理\n",
    "> 不同的尺度空间不能使用相同的窗口检测极点值；对小的角点要用小的窗口，对大的角点只能使用大的窗口，为了达到这个目的，需要使用尺度空间滤波器（尺度空间滤波器可以使用一些具有不同方差的高斯卷积核构成）  \n",
    "> 使用具有不同方差值的`高斯拉普拉斯算子`(LoG)对图像进行卷积，(LoG)由于具有不同的方差值所以可以用来检测不同大小的斑点（当(LoG)的方差与斑点直径相等时能够使斑点完全平滑）。简单来说方差就是一个尺度变换因子。  \n",
    "> 高斯方差的大小与窗口的大小存在一个倍数关系：窗口大小等于`6`倍方差加`1`，所以方差的大小也决定了窗口大小；使用一个小方差的高斯卷积核是可以很好的检测出小的角点，而使用大方差的高斯卷积核时可以很好的检测除大的角点 "
   ]
  },
  {
   "cell_type": "markdown",
   "metadata": {},
   "source": [
    "## 非极大值抑制"
   ]
  }
 ],
 "metadata": {
  "kernelspec": {
   "display_name": "Python 2",
   "language": "python",
   "name": "python2"
  },
  "language_info": {
   "codemirror_mode": {
    "name": "ipython",
    "version": 2
   },
   "file_extension": ".py",
   "mimetype": "text/x-python",
   "name": "python",
   "nbconvert_exporter": "python",
   "pygments_lexer": "ipython2",
   "version": "2.7.15"
  },
  "toc": {
   "base_numbering": 1,
   "nav_menu": {},
   "number_sections": true,
   "sideBar": true,
   "skip_h1_title": false,
   "title_cell": "Table of Contents",
   "title_sidebar": "Contents",
   "toc_cell": true,
   "toc_position": {},
   "toc_section_display": true,
   "toc_window_display": true
  }
 },
 "nbformat": 4,
 "nbformat_minor": 2
}
