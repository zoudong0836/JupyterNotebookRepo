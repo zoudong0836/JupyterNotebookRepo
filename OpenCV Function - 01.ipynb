{
 "cells": [
  {
   "cell_type": "markdown",
   "metadata": {
    "toc": true
   },
   "source": [
    "<h1>Table of Contents<span class=\"tocSkip\"></span></h1>\n",
    "<div class=\"toc\"><ul class=\"toc-item\"><li><span><a href=\"#cv2.absdiff\" data-toc-modified-id=\"cv2.absdiff-1\"><span class=\"toc-item-num\">1&nbsp;&nbsp;</span>cv2.absdiff</a></span></li><li><span><a href=\"#cv2.inRange\" data-toc-modified-id=\"cv2.inRange-2\"><span class=\"toc-item-num\">2&nbsp;&nbsp;</span><a href=\"https://blog.csdn.net/hjxu2016/article/details/77834599\" target=\"_blank\">cv2.inRange</a></a></span></li><li><span><a href=\"#cv2.calcHist\" data-toc-modified-id=\"cv2.calcHist-3\"><span class=\"toc-item-num\">3&nbsp;&nbsp;</span><a href=\"https://blog.csdn.net/sunny2038/article/details/9097989\" target=\"_blank\">cv2.calcHist</a></a></span></li><li><span><a href=\"#cv2.normalize\" data-toc-modified-id=\"cv2.normalize-4\"><span class=\"toc-item-num\">4&nbsp;&nbsp;</span>cv2.normalize</a></span></li></ul></div>"
   ]
  },
  {
   "cell_type": "markdown",
   "metadata": {},
   "source": [
    "## cv2.absdiff\n",
    "\n",
    "> 获取差分图; 就是将两幅图像作差，返回的结果代表他们的差异之处\n",
    "```python\n",
    "cv2.absdiff(src1, src2, dst=None)\n",
    "```\n",
    ">> 两个图片相减用的是灰度图，类型是uint8(在OpenCV单通道使用的数据类型是 uint8)；两个uint8的数相减得不到负数,会得到差的补码  \n",
    "\n",
    "> 对于一个固定的场景（背景），感兴趣的是在场景中运动的物体（前景）。如果摄像机是固定的，那么可以认为场景（背景）大多数情况下是不变的，而只有前景（被跟踪的目标）会运动，这样就可以建立背景模型。通过比较当前帧和背景模型，就能轻松地跟踪目标运动情况了。这里，最容易想到的比较方式就是当前帧减去背景模型了\n"
   ]
  },
  {
   "cell_type": "markdown",
   "metadata": {},
   "source": [
    "## [cv2.inRange](https://blog.csdn.net/hjxu2016/article/details/77834599)\n",
    "\n",
    "> 该函数可实现二值化功能（这点类似threshold()函数），更关键的是可以同时针对多通道进行操作\n",
    "```python\n",
    "cv2.inRange(src, lowerb, upperb, dst=None)\n",
    "```\n",
    "> 参数说明：\n",
    "```python\n",
    "* src: 指定原图, 通常是 HSV 图像\n",
    "* lowerb: 指的是图像中低于这个lowerb的值，图像值变为0\n",
    "* upperb: 指的是图像中高于这个upperb的值, 图像值变为0\n",
    "* 在 lowerb ~ upperb 之间的值变为 255\n",
    "```\n",
    "\n",
    ">> 针对单通道图像  \n",
    "* 假设lowerb=[0]，upperb=[128]，那么，对每个数在0-128之间为255，否则为0，，这样就生成了一幅二值化的输出图像。\n",
    "\n",
    ">> 针对多通道图像\n",
    "* 假设lower=[0，0, 0]，upper=[128, 128, 128]，那么，对每一行，对任意一个数，如果在范围内，则255，否则0"
   ]
  },
  {
   "cell_type": "markdown",
   "metadata": {},
   "source": [
    "## [cv2.calcHist](https://blog.csdn.net/sunny2038/article/details/9097989)\n",
    "> 通过直方图可以对整幅图像的灰度分布有一个整体的了解。直方图的 x 轴是灰度值（0 到 255）， y 轴是图片中具有同一个灰度值的点的数目 （直方图是根据灰度图像绘制的，而不是彩色图像）\n",
    "```python\n",
    "cv2.calcHist(images, channels, mask, histSize, ranges, hist=None, accumulate=None)\n",
    "```\n",
    "> 参数说明：\n",
    "```python\n",
    "* images: 原图像(图像格式为uint8或float32), 当传入函数时应该用中括号[]括起来\n",
    "* channels: 如果输入图像是灰度图, 它的值就是[0]; 如果是彩色图像的话, 传入的参数可以是 [0], [1], [2] 它们分别对应着通道 B, G, R (同样需要用中括号括起来)\n",
    "* mask: 掩模图像。要统计整幅图像的直方图就把它设为 None。但是如果想统计图像某一部分的直方图的话，就需要制作一个掩模图像，并使用它\n",
    "* histSize:  BIN 的数目。也应该用中括号括起来，例如： [256]\n",
    "* ranges: 要统计的灰度值范围，一般来说为 [0， 256]，也就是说所有的灰度值\n",
    "```\n",
    "> 示例: 一副图中同时绘制三个通道的直方图\n",
    "```python\n",
    "import cv2  \n",
    "import numpy as np  \n",
    "img = cv2.imread('D:/lena.jpg')  \n",
    "h = np.zeros((256,256,3))           # 创建用于绘制直方图的全0图像    \n",
    "bins = np.arange(256).reshape(256,1)     # 直方图中各bin的顶点位置  \n",
    "color = [ (255,0,0),(0,255,0),(0,0,255) ]   # BGR三种颜色  \n",
    "for ch, col in enumerate(color):  \n",
    "    originHist = cv2.calcHist([img],[ch],None,[256],[0,256])  \n",
    "    cv2.normalize(originHist,originHist,0,255*0.9,cv2.NORM_MINMAX)  \n",
    "    hist=np.int32(np.around(originHist))  \n",
    "    pts = np.column_stack((bins,hist))  \n",
    "    cv2.polylines(h,[pts],False,col)  \n",
    "h=np.flipud(h)  \n",
    "cv2.imshow('colorhist',h)  \n",
    "cv2.waitKey(0) \n",
    "```"
   ]
  },
  {
   "cell_type": "markdown",
   "metadata": {},
   "source": [
    "## cv2.normalize\n",
    "> 归一化就是要把需要处理的数据经过处理后（通过某种算法）限制在所需要的一定范围内；归一化的目的，是使得没有可比性的数据变得具有可比性，同时又保持相比较的两个数据之间的相对关系，如大小关系；或是为了作图，原来很难在一张图上作出来，归一化后就可以很方便的给出图上的相对位置等\n",
    "```python\n",
    "cv2.normalize(src, dst, alpha=None, beta=None, norm_type=None, dtype=None, mask=None)\n",
    "```\n",
    "> 参数说明：\n",
    "```python\n",
    "* src: 输入数组\n",
    "* dst: 输出数组\n",
    "* alpha: range normalization 模式的最小值\n",
    "* beta: range normalization 模式的最大值\n",
    "* norm_type: 归一化的类型:\n",
    "  1. NORM_MINMAX:数组的数值被平移或缩放到一个指定的范围，线性归一化，一般较常用\n",
    "  2. NORM_INF\n",
    "  3. NORM_L1: 归一化数组的L1-范数(绝对值的和)\n",
    "  4. NORM_L2: 归一化数组的(欧几里德)L2-范数\n",
    "* dtype: 为负数时，输出数组的type与输入数组的type相同\n",
    "* mask: 操作掩膜，用于指示函数是否仅仅对指定的元素进行操作\n",
    "```"
   ]
  },
  {
   "cell_type": "code",
   "execution_count": null,
   "metadata": {},
   "outputs": [],
   "source": []
  }
 ],
 "metadata": {
  "kernelspec": {
   "display_name": "Python 2",
   "language": "python",
   "name": "python2"
  },
  "language_info": {
   "codemirror_mode": {
    "name": "ipython",
    "version": 2
   },
   "file_extension": ".py",
   "mimetype": "text/x-python",
   "name": "python",
   "nbconvert_exporter": "python",
   "pygments_lexer": "ipython2",
   "version": "2.7.15"
  },
  "toc": {
   "base_numbering": 1,
   "nav_menu": {},
   "number_sections": true,
   "sideBar": true,
   "skip_h1_title": false,
   "title_cell": "Table of Contents",
   "title_sidebar": "Contents",
   "toc_cell": true,
   "toc_position": {},
   "toc_section_display": true,
   "toc_window_display": true
  }
 },
 "nbformat": 4,
 "nbformat_minor": 2
}
