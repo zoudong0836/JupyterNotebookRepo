{
 "cells": [
  {
   "cell_type": "markdown",
   "metadata": {
    "toc": true
   },
   "source": [
    "<h1>Table of Contents<span class=\"tocSkip\"></span></h1>\n",
    "<div class=\"toc\"><ul class=\"toc-item\"><li><span><a href=\"#cv.absdiff\" data-toc-modified-id=\"cv.absdiff-1\"><span class=\"toc-item-num\">1&nbsp;&nbsp;</span>cv.absdiff</a></span></li></ul></div>"
   ]
  },
  {
   "cell_type": "markdown",
   "metadata": {},
   "source": [
    "## cv.absdiff\n",
    "> 获取差分图; 就是将两幅图像作差，返回的结果代表他们的差异之处\n",
    ">> 两个图片相减用的是灰度图，类型是uint8(在OpenCV单通道使用的数据类型是 uint8)；两个uint8的数相减得不到负数,会得到差的补码  \n",
    "\n",
    "> 对于一个固定的场景（背景），感兴趣的是在场景中运动的物体（前景）。如果摄像机是固定的，那么可以认为场景（背景）大多数情况下是不变的，而只有前景（被跟踪的目标）会运动，这样就可以建立背景模型。通过比较当前帧和背景模型，就能轻松地跟踪目标运动情况了。这里，最容易想到的比较方式就是当前帧减去背景模型了\n",
    "\n",
    "\n",
    "```python\n",
    "cv2.absdiff(src1, src2, dst=None)\n",
    "```"
   ]
  },
  {
   "cell_type": "code",
   "execution_count": null,
   "metadata": {},
   "outputs": [],
   "source": []
  }
 ],
 "metadata": {
  "kernelspec": {
   "display_name": "Python 2",
   "language": "python",
   "name": "python2"
  },
  "language_info": {
   "codemirror_mode": {
    "name": "ipython",
    "version": 2
   },
   "file_extension": ".py",
   "mimetype": "text/x-python",
   "name": "python",
   "nbconvert_exporter": "python",
   "pygments_lexer": "ipython2",
   "version": "2.7.14"
  },
  "toc": {
   "base_numbering": 1,
   "nav_menu": {},
   "number_sections": true,
   "sideBar": true,
   "skip_h1_title": false,
   "title_cell": "Table of Contents",
   "title_sidebar": "Contents",
   "toc_cell": true,
   "toc_position": {},
   "toc_section_display": true,
   "toc_window_display": true
  }
 },
 "nbformat": 4,
 "nbformat_minor": 2
}
